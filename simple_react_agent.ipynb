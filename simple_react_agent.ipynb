{
 "cells": [
  {
   "cell_type": "code",
   "execution_count": 1,
   "metadata": {},
   "outputs": [
    {
     "data": {
      "text/plain": [
       "True"
      ]
     },
     "execution_count": 1,
     "metadata": {},
     "output_type": "execute_result"
    }
   ],
   "source": [
    "from dotenv import load_dotenv, find_dotenv\n",
    "load_dotenv(find_dotenv(), override=True)"
   ]
  },
  {
   "cell_type": "code",
   "execution_count": null,
   "metadata": {},
   "outputs": [
    {
     "name": "stdout",
     "output_type": "stream",
     "text": [
      "I told my computer I needed a break, and now it won't stop sending me pop-up ads for tropical vacations!\n"
     ]
    }
   ],
   "source": [
    "import openai\n",
    "import re\n",
    "import httpx\n",
    "import os\n",
    "\n",
    "from openai import OpenAI\n",
    "client = OpenAI()\n",
    "\n",
    "MODEL = \"gpt-4o-mini\"\n",
    "prompt = \"Write something short but funny\"\n",
    "\n",
    "chat_completion = client.chat.completions.create(\n",
    "    model=MODEL,\n",
    "    messages=[{\"role\": \"user\", \"content\": prompt}]\n",
    ")\n",
    "\n",
    "print(chat_completion.choices[0].message.content)\n"
   ]
  },
  {
   "cell_type": "code",
   "execution_count": 5,
   "metadata": {},
   "outputs": [],
   "source": [
    "class Agent:\n",
    "    def __init__(self, system=\"\"):\n",
    "        self.system = system\n",
    "        self.messages = []\n",
    "\n",
    "        if self.system:\n",
    "            self.messages.append({\"role\": \"system\", \"content\": system})\n",
    "\n",
    "    \n",
    "    def __call__(self, prompt):\n",
    "        self.messages.append({\"role\": \"user\", \"content\": prompt})\n",
    "        result = self.execute()\n",
    "        self.messages.append({\"role\": \"assistant\", \"content\": result})\n",
    "        return result\n",
    "    \n",
    "    def execute(self, model=\"gpt-4o-mini\", temperature=0):\n",
    "        completion = client.chat.completions.create(\n",
    "            model=model,\n",
    "            temperature=temperature,\n",
    "            messages=self.messages\n",
    "        )\n",
    "        return completion.choices[0].message.content"
   ]
  },
  {
   "cell_type": "code",
   "execution_count": 6,
   "metadata": {},
   "outputs": [],
   "source": [
    "prompt = \"\"\"\n",
    "You run in a loop if Thought, Action, PAUSE, Observation.\n",
    "At the end of the loop you output an Answer.\n",
    "Use Thought to describe your thoughts about the question you have been asked.\n",
    "Use Action to run one of the actions available to you - then return PAUSE.\n",
    "Observation will be the result of running those actions.\n",
    "\n",
    "Your available actions are:\n",
    "\n",
    "calculate:\n",
    "e.g. calculate 4 & 7 / 3\n",
    "Runs a calculation and returns the number - uses Python so be sure to use floating point syntax if necessary.\n",
    "\n",
    "get_cost:\n",
    "e.g. get_cost: book\n",
    "returns the cost of a book\n",
    "\n",
    "wikipedia:\n",
    "e.g. wikipedia: LangChain\n",
    "Returns a summary from searching Wikipedia\n",
    "\n",
    "Always look things up on Wikipedia if you have the opportunity to do so.\n",
    "\n",
    "Example session #1:\n",
    "\n",
    "Question: How much does a pen cost?\n",
    "Thought: I should look the pen cost using get_cost\n",
    "Action: get_cost: pen\n",
    "PAUSE\n",
    "\n",
    "You will be called again with this:\n",
    "\n",
    "Observation: A pen costs $5\n",
    "\n",
    "You then outpit:\n",
    "\n",
    "Answer: A pen costs $5\n",
    "\n",
    "\n",
    "\n",
    "Example session #2\n",
    "\n",
    "Question: What is the capital of France?\n",
    "Thought: I should look up France on Wikipedia\n",
    "Action: wikipedia: France\n",
    "PAUSE\n",
    "\n",
    "You will be called again with this:\n",
    "\n",
    "Observation: France is a country. The capital is Paris.\n",
    "\n",
    "You then output:\n",
    "\n",
    "Answer: The capital of France is Paris\n",
    "\"\"\".strip()"
   ]
  },
  {
   "cell_type": "code",
   "execution_count": 9,
   "metadata": {},
   "outputs": [],
   "source": [
    "def calculate(what):\n",
    "    return eval(what)\n",
    "\n",
    "\n",
    "def get_cost(thing):\n",
    "    if thing in \"pen\":\n",
    "        return (\"A pen costs $5\")\n",
    "    elif thing in \"book\":\n",
    "        return (\"A book costs $20\")\n",
    "    elif thing in \"stapler\":\n",
    "        return (\"A stapler costs $10\")\n",
    "    else:\n",
    "        return (\"A random thing for writing costs $12\")\n",
    "\n",
    "\n",
    "def wikipedia(q):\n",
    "    response = httpx.get(\"https://en.wikipedia.org/w/api.php\", params={\n",
    "        \"action\": \"query\",\n",
    "        \"list\": \"search\",\n",
    "        \"srsearch\": q,\n",
    "        \"format\": \"json\"\n",
    "    })\n",
    "    results = response.json().get(\"query\").get(\"search\", [])\n",
    "\n",
    "    if not results:\n",
    "        return None\n",
    "    return results[0][\"snippet\"]"
   ]
  },
  {
   "cell_type": "code",
   "execution_count": null,
   "metadata": {},
   "outputs": [
    {
     "data": {
      "text/plain": [
       "'Free and open-source software portal <span class=\"searchmatch\">LangChain</span> is a software framework that helps facilitate the integration of large language models (LLMs) into applications'"
      ]
     },
     "execution_count": 10,
     "metadata": {},
     "output_type": "execute_result"
    }
   ],
   "source": [
    "wikipedia(\"langchain\")"
   ]
  },
  {
   "cell_type": "code",
   "execution_count": 11,
   "metadata": {},
   "outputs": [],
   "source": [
    "known_actions = {\n",
    "    \"calculate\": calculate,\n",
    "    \"get_cost\": get_cost,\n",
    "    \"wikipedia\": wikipedia\n",
    "}"
   ]
  },
  {
   "cell_type": "code",
   "execution_count": 15,
   "metadata": {},
   "outputs": [
    {
     "name": "stdout",
     "output_type": "stream",
     "text": [
      "Thought: I should look up the cost of a pen using the get_cost action.  \n",
      "Action: get_cost: pen  \n",
      "PAUSE\n"
     ]
    }
   ],
   "source": [
    "my_agent = Agent(prompt)\n",
    "result = my_agent(\"How much does a pen cost?\")\n",
    "\n",
    "print(result)"
   ]
  },
  {
   "cell_type": "code",
   "execution_count": 20,
   "metadata": {},
   "outputs": [
    {
     "data": {
      "text/plain": [
       "'Obseravation: A pen costs $5'"
      ]
     },
     "execution_count": 20,
     "metadata": {},
     "output_type": "execute_result"
    }
   ],
   "source": [
    "next_prompt = f\"Obseravation: {get_cost('pen')}\"\n",
    "next_prompt"
   ]
  },
  {
   "cell_type": "code",
   "execution_count": 21,
   "metadata": {},
   "outputs": [
    {
     "data": {
      "text/plain": [
       "'Answer: A pen costs $5.'"
      ]
     },
     "execution_count": 21,
     "metadata": {},
     "output_type": "execute_result"
    }
   ],
   "source": [
    "my_agent(next_prompt)"
   ]
  },
  {
   "cell_type": "code",
   "execution_count": 22,
   "metadata": {},
   "outputs": [
    {
     "data": {
      "text/plain": [
       "[{'role': 'system',\n",
       "  'content': 'You run in a loop if Thought, Action, PAUSE, Observation.\\nAt the end of the loop you output an Answer.\\nUse Thought to describe your thoughts about the question you have been asked.\\nUse Action to run one of the actions available to you - then return PAUSE.\\nObservation will be the result of running those actions.\\n\\nYour available actions are:\\n\\ncalculate:\\ne.g. calculate 4 & 7 / 3\\nRuns a calculation and returns the number - uses Python so be sure to use floating point syntax if necessary.\\n\\nget_cost:\\ne.g. get_cost: book\\nreturns the cost of a book\\n\\nwikipedia:\\ne.g. wikipedia: LangChain\\nReturns a summary from searching Wikipedia\\n\\nAlways look things up on Wikipedia if you have the opportunity to do so.\\n\\nExample session #1:\\n\\nQuestion: How much does a pen cost?\\nThought: I should look the pen cost using get_cost\\nAction: get_cost: pen\\nPAUSE\\n\\nYou will be called again with this:\\n\\nObservation: A pen costs $5\\n\\nYou then outpit:\\n\\nAnswer: A pen costs $5\\n\\n\\n\\nExample session #2\\n\\nQuestion: What is the capital of France?\\nThought: I should look up France on Wikipedia\\nAction: wikipedia: France\\nPAUSE\\n\\nYou will be called again with this:\\n\\nObservation: France is a country. The capital is Paris.\\n\\nYou then output:\\n\\nAnswer: The capital of France is Paris'},\n",
       " {'role': 'user', 'content': 'How much does a pen cost?'},\n",
       " {'role': 'assistant',\n",
       "  'content': 'Thought: I should look up the cost of a pen using the get_cost action.  \\nAction: get_cost: pen  \\nPAUSE'},\n",
       " {'role': 'user', 'content': 'Obseravation: A pen costs $5'},\n",
       " {'role': 'assistant', 'content': 'Answer: A pen costs $5.'}]"
      ]
     },
     "execution_count": 22,
     "metadata": {},
     "output_type": "execute_result"
    }
   ],
   "source": [
    "my_agent.messages"
   ]
  },
  {
   "cell_type": "code",
   "execution_count": 23,
   "metadata": {},
   "outputs": [
    {
     "data": {
      "text/plain": [
       "\"Thought: I need to find the cost of both a pen and a book to calculate the total cost. I'll start by looking up the cost of a pen. \\nAction: get_cost: pen\\nPAUSE\""
      ]
     },
     "execution_count": 23,
     "metadata": {},
     "output_type": "execute_result"
    }
   ],
   "source": [
    "abot = Agent(prompt)\n",
    "\n",
    "question = \"I want to buy a pen and a book. How much do they cost in total?\"\n",
    "\n",
    "abot(question)"
   ]
  },
  {
   "cell_type": "code",
   "execution_count": 25,
   "metadata": {},
   "outputs": [
    {
     "name": "stdout",
     "output_type": "stream",
     "text": [
      "Observation: A pen costs $5\n"
     ]
    }
   ],
   "source": [
    "next_prompt = f\"Observation: {get_cost('pen')}\"\n",
    "print(next_prompt)"
   ]
  },
  {
   "cell_type": "code",
   "execution_count": 26,
   "metadata": {},
   "outputs": [
    {
     "data": {
      "text/plain": [
       "'Thought: Now that I have the cost of the pen, I need to find the cost of a book to calculate the total. \\nAction: get_cost: book\\nPAUSE'"
      ]
     },
     "execution_count": 26,
     "metadata": {},
     "output_type": "execute_result"
    }
   ],
   "source": [
    "abot(next_prompt)"
   ]
  },
  {
   "cell_type": "code",
   "execution_count": 27,
   "metadata": {},
   "outputs": [
    {
     "name": "stdout",
     "output_type": "stream",
     "text": [
      "Observation: A book costs $20\n"
     ]
    }
   ],
   "source": [
    "next_prompt = f\"Observation: {get_cost('book')}\"\n",
    "print(next_prompt)"
   ]
  },
  {
   "cell_type": "code",
   "execution_count": 28,
   "metadata": {},
   "outputs": [
    {
     "data": {
      "text/plain": [
       "'Thought: I now have the costs of both the pen and the book. The pen costs $5 and the book costs $20. I will calculate the total cost by adding these two amounts together. \\nAction: calculate: 5 + 20\\nPAUSE'"
      ]
     },
     "execution_count": 28,
     "metadata": {},
     "output_type": "execute_result"
    }
   ],
   "source": [
    "abot(next_prompt)"
   ]
  },
  {
   "cell_type": "code",
   "execution_count": 29,
   "metadata": {},
   "outputs": [
    {
     "name": "stdout",
     "output_type": "stream",
     "text": [
      "Observation: 25\n"
     ]
    }
   ],
   "source": [
    "next_prompt = f\"Observation: {calculate('5 + 20')}\"\n",
    "print(next_prompt)"
   ]
  },
  {
   "cell_type": "code",
   "execution_count": 30,
   "metadata": {},
   "outputs": [
    {
     "data": {
      "text/plain": [
       "'Answer: The total cost of a pen and a book is $25.'"
      ]
     },
     "execution_count": 30,
     "metadata": {},
     "output_type": "execute_result"
    }
   ],
   "source": [
    "abot(next_prompt)"
   ]
  },
  {
   "cell_type": "code",
   "execution_count": null,
   "metadata": {},
   "outputs": [],
   "source": []
  },
  {
   "cell_type": "code",
   "execution_count": 31,
   "metadata": {},
   "outputs": [
    {
     "data": {
      "text/plain": [
       "'Thought: I should look up information about the 2024 United Kingdom elections on Wikipedia to get the latest details.  \\nAction: wikipedia: 2024 United Kingdom elections  \\nPAUSE'"
      ]
     },
     "execution_count": 31,
     "metadata": {},
     "output_type": "execute_result"
    }
   ],
   "source": [
    "abot = Agent(prompt)\n",
    "\n",
    "query = \"2024 United Kingdom elections\"\n",
    "\n",
    "abot(query)"
   ]
  },
  {
   "cell_type": "code",
   "execution_count": 32,
   "metadata": {},
   "outputs": [
    {
     "name": "stdout",
     "output_type": "stream",
     "text": [
      "Observation: The <span class=\"searchmatch\">2024</span> <span class=\"searchmatch\">United</span> <span class=\"searchmatch\">Kingdom</span> general <span class=\"searchmatch\">election</span> was held on Thursday, 4 July <span class=\"searchmatch\">2024</span> to elect all 650 members of the House of Commons. The opposition Labour Party\n"
     ]
    }
   ],
   "source": [
    "next_prompt = f\"Observation: {wikipedia(query)}\"\n",
    "print(next_prompt)"
   ]
  },
  {
   "cell_type": "code",
   "execution_count": 33,
   "metadata": {},
   "outputs": [
    {
     "data": {
      "text/plain": [
       "'Answer: The 2024 United Kingdom general election is scheduled to be held on Thursday, 4 July 2024, to elect all 650 members of the House of Commons.'"
      ]
     },
     "execution_count": 33,
     "metadata": {},
     "output_type": "execute_result"
    }
   ],
   "source": [
    "abot(next_prompt)"
   ]
  },
  {
   "cell_type": "code",
   "execution_count": 34,
   "metadata": {},
   "outputs": [
    {
     "data": {
      "text/plain": [
       "[{'role': 'system',\n",
       "  'content': 'You run in a loop if Thought, Action, PAUSE, Observation.\\nAt the end of the loop you output an Answer.\\nUse Thought to describe your thoughts about the question you have been asked.\\nUse Action to run one of the actions available to you - then return PAUSE.\\nObservation will be the result of running those actions.\\n\\nYour available actions are:\\n\\ncalculate:\\ne.g. calculate 4 & 7 / 3\\nRuns a calculation and returns the number - uses Python so be sure to use floating point syntax if necessary.\\n\\nget_cost:\\ne.g. get_cost: book\\nreturns the cost of a book\\n\\nwikipedia:\\ne.g. wikipedia: LangChain\\nReturns a summary from searching Wikipedia\\n\\nAlways look things up on Wikipedia if you have the opportunity to do so.\\n\\nExample session #1:\\n\\nQuestion: How much does a pen cost?\\nThought: I should look the pen cost using get_cost\\nAction: get_cost: pen\\nPAUSE\\n\\nYou will be called again with this:\\n\\nObservation: A pen costs $5\\n\\nYou then outpit:\\n\\nAnswer: A pen costs $5\\n\\n\\n\\nExample session #2\\n\\nQuestion: What is the capital of France?\\nThought: I should look up France on Wikipedia\\nAction: wikipedia: France\\nPAUSE\\n\\nYou will be called again with this:\\n\\nObservation: France is a country. The capital is Paris.\\n\\nYou then output:\\n\\nAnswer: The capital of France is Paris'},\n",
       " {'role': 'user', 'content': '2024 United Kingdom elections'},\n",
       " {'role': 'assistant',\n",
       "  'content': 'Thought: I should look up information about the 2024 United Kingdom elections on Wikipedia to get the latest details.  \\nAction: wikipedia: 2024 United Kingdom elections  \\nPAUSE'},\n",
       " {'role': 'user',\n",
       "  'content': 'Observation: The <span class=\"searchmatch\">2024</span> <span class=\"searchmatch\">United</span> <span class=\"searchmatch\">Kingdom</span> general <span class=\"searchmatch\">election</span> was held on Thursday, 4 July <span class=\"searchmatch\">2024</span> to elect all 650 members of the House of Commons. The opposition Labour Party'},\n",
       " {'role': 'assistant',\n",
       "  'content': 'Answer: The 2024 United Kingdom general election is scheduled to be held on Thursday, 4 July 2024, to elect all 650 members of the House of Commons.'}]"
      ]
     },
     "execution_count": 34,
     "metadata": {},
     "output_type": "execute_result"
    }
   ],
   "source": [
    "abot.messages"
   ]
  },
  {
   "cell_type": "code",
   "execution_count": null,
   "metadata": {},
   "outputs": [
    {
     "data": {
      "text/plain": [
       "[{'role': 'system',\n",
       "  'content': 'You run in a loop if Thought, Action, PAUSE, Observation.\\nAt the end of the loop you output an Answer.\\nUse Thought to describe your thoughts about the question you have been asked.\\nUse Action to run one of the actions available to you - then return PAUSE.\\nObservation will be the result of running those actions.\\n\\nYour available actions are:\\n\\ncalculate:\\ne.g. calculate 4 & 7 / 3\\nRuns a calculation and returns the number - uses Python so be sure to use floating point syntax if necessary.\\n\\nget_cost:\\ne.g. get_cost: book\\nreturns the cost of a book\\n\\nwikipedia:\\ne.g. wikipedia: LangChain\\nReturns a summary from searching Wikipedia\\n\\nAlways look things up on Wikipedia if you have the opportunity to do so.\\n\\nExample session #1:\\n\\nQuestion: How much does a pen cost?\\nThought: I should look the pen cost using get_cost\\nAction: get_cost: pen\\nPAUSE\\n\\nYou will be called again with this:\\n\\nObservation: A pen costs $5\\n\\nYou then outpit:\\n\\nAnswer: A pen costs $5\\n\\n\\n\\nExample session #2\\n\\nQuestion: What is the capital of France?\\nThought: I should look up France on Wikipedia\\nAction: wikipedia: France\\nPAUSE\\n\\nYou will be called again with this:\\n\\nObservation: France is a country. The capital is Paris.\\n\\nYou then output:\\n\\nAnswer: The capital of France is Paris'},\n",
       " {'role': 'user', 'content': '2024 United Kingdom elections'},\n",
       " {'role': 'assistant',\n",
       "  'content': 'Thought: I should look up information about the 2024 United Kingdom elections on Wikipedia to get the latest details.  \\nAction: wikipedia: 2024 United Kingdom elections  \\nPAUSE'},\n",
       " {'role': 'user',\n",
       "  'content': 'Observation: The <span class=\"searchmatch\">2024</span> <span class=\"searchmatch\">United</span> <span class=\"searchmatch\">Kingdom</span> general <span class=\"searchmatch\">election</span> was held on Thursday, 4 July <span class=\"searchmatch\">2024</span> to elect all 650 members of the House of Commons. The opposition Labour Party'},\n",
       " {'role': 'assistant',\n",
       "  'content': 'Answer: The 2024 United Kingdom general election is scheduled to be held on Thursday, 4 July 2024, to elect all 650 members of the House of Commons.'}]"
      ]
     },
     "execution_count": 58,
     "metadata": {},
     "output_type": "execute_result"
    }
   ],
   "source": [
    "[{'role': 'system',\n",
    "  'content': 'You run in a loop if Thought, Action, PAUSE, Observation.\\nAt the end of the loop you output an Answer.\\nUse Thought to describe your thoughts about the question you have been asked.\\nUse Action to run one of the actions available to you - then return PAUSE.\\nObservation will be the result of running those actions.\\n\\nYour available actions are:\\n\\ncalculate:\\ne.g. calculate 4 & 7 / 3\\nRuns a calculation and returns the number - uses Python so be sure to use floating point syntax if necessary.\\n\\nget_cost:\\ne.g. get_cost: book\\nreturns the cost of a book\\n\\nwikipedia:\\ne.g. wikipedia: LangChain\\nReturns a summary from searching Wikipedia\\n\\nAlways look things up on Wikipedia if you have the opportunity to do so.\\n\\nExample session #1:\\n\\nQuestion: How much does a pen cost?\\nThought: I should look the pen cost using get_cost\\nAction: get_cost: pen\\nPAUSE\\n\\nYou will be called again with this:\\n\\nObservation: A pen costs $5\\n\\nYou then outpit:\\n\\nAnswer: A pen costs $5\\n\\n\\n\\nExample session #2\\n\\nQuestion: What is the capital of France?\\nThought: I should look up France on Wikipedia\\nAction: wikipedia: France\\nPAUSE\\n\\nYou will be called again with this:\\n\\nObservation: France is a country. The capital is Paris.\\n\\nYou then output:\\n\\nAnswer: The capital of France is Paris'},\n",
    " {'role': 'user', 'content': '2024 United Kingdom elections'},\n",
    " {'role': 'assistant',\n",
    "  'content': 'Thought: I should look up information about the 2024 United Kingdom elections on Wikipedia to get the latest details.  \\nAction: wikipedia: 2024 United Kingdom elections  \\nPAUSE'},\n",
    " {'role': 'user',\n",
    "  'content': 'Observation: The <span class=\"searchmatch\">2024</span> <span class=\"searchmatch\">United</span> <span class=\"searchmatch\">Kingdom</span> general <span class=\"searchmatch\">election</span> was held on Thursday, 4 July <span class=\"searchmatch\">2024</span> to elect all 650 members of the House of Commons. The opposition Labour Party'},\n",
    " {'role': 'assistant',\n",
    "  'content': 'Answer: The 2024 United Kingdom general election is scheduled to be held on Thursday, 4 July 2024, to elect all 650 members of the House of Commons.'}]\n",
    "\n",
    "One of the be"
   ]
  },
  {
   "cell_type": "code",
   "execution_count": null,
   "metadata": {},
   "outputs": [],
   "source": []
  },
  {
   "cell_type": "code",
   "execution_count": 51,
   "metadata": {},
   "outputs": [],
   "source": [
    "def calculate(what):\n",
    "    return eval(what)\n",
    "\n",
    "\n",
    "# 2) Make get_cost robust\n",
    "def get_cost(thing):\n",
    "    t = thing.strip().lower()\n",
    "    # handle simple plurals\n",
    "    if t.endswith('s'):\n",
    "        t = t[:-1]\n",
    "    if t == \"pen\":\n",
    "        return \"A pen costs $5\"\n",
    "    elif t == \"book\":\n",
    "        return \"A book costs $20\"\n",
    "    elif t == \"stapler\":\n",
    "        return \"A stapler costs $10\"\n",
    "    else:\n",
    "        return \"A random thing for writing costs $12\"\n",
    "\n",
    "\n",
    "def wikipedia(q):\n",
    "    response = httpx.get(\"https://en.wikipedia.org/w/api.php\", params={\n",
    "        \"action\": \"query\",\n",
    "        \"list\": \"search\",\n",
    "        \"srsearch\": q,\n",
    "        \"format\": \"json\"\n",
    "    })\n",
    "    results = response.json().get(\"query\").get(\"search\", [])\n",
    "\n",
    "    if not results:\n",
    "        return None\n",
    "    return results[0][\"snippet\"]"
   ]
  },
  {
   "cell_type": "code",
   "execution_count": 55,
   "metadata": {},
   "outputs": [],
   "source": [
    "# 1) Tighten the action regex to ignore extra spaces\n",
    "action_re = re.compile(r'^Action:\\s*(\\w+):\\s*(.+?)\\s*$')\n",
    "\n",
    "def query(question, max_turns=5):\n",
    "    i = 0\n",
    "    bot = Agent(prompt)\n",
    "    next_prompt = question\n",
    "\n",
    "    while i < max_turns:\n",
    "        i += 1\n",
    "        result = bot(next_prompt)\n",
    "        print(result)\n",
    "\n",
    "        actions = [action_re.match(a) for a in result.split(\"\\n\") if action_re.match(a)]\n",
    "        if actions:\n",
    "            action, action_input = actions[0].groups()\n",
    "            action = action.strip().lower()\n",
    "            action_input = action_input.strip()         # <-- strip here\n",
    "\n",
    "            if action not in known_actions:\n",
    "                raise Exception(f\"Unknown action: {action}: {action_input}\")\n",
    "\n",
    "            print(f\" -- running {action} {action_input!r}\")\n",
    "            observation = known_actions[action](action_input)\n",
    "            print(f\"Observation: {observation}\")\n",
    "            next_prompt = f\"Observation: {observation}\"\n",
    "        else:\n",
    "            return"
   ]
  },
  {
   "cell_type": "code",
   "execution_count": 56,
   "metadata": {},
   "outputs": [
    {
     "name": "stdout",
     "output_type": "stream",
     "text": [
      "Thought: I need to find the cost of both a book and a pen to calculate the total cost for 2 books and 3 pens. I will first look up the cost of a book.  \n",
      "Action: get_cost: book  \n",
      "PAUSE  \n",
      " -- running get_cost 'book'\n",
      "Observation: A book costs $20\n",
      "Thought: Now that I know the cost of a book is $20, I need to find the cost of a pen to complete the calculation.  \n",
      "Action: get_cost: pen  \n",
      "PAUSE  \n",
      " -- running get_cost 'pen'\n",
      "Observation: A pen costs $5\n",
      "Thought: I have the costs now: a book costs $20 and a pen costs $5. I will calculate the total cost for 2 books and 3 pens.  \n",
      "Action: calculate: 2 * 20 + 3 * 5  \n",
      "PAUSE  \n",
      " -- running calculate '2 * 20 + 3 * 5'\n",
      "Observation: 55\n",
      "Answer: You have to pay $55 for 2 books and 3 pens.\n"
     ]
    }
   ],
   "source": [
    "question = \"\"\"I want to buy 2 books and 3 pens. How much do I have to pay?\"\"\"\n",
    "query(question)"
   ]
  },
  {
   "cell_type": "code",
   "execution_count": null,
   "metadata": {},
   "outputs": [
    {
     "name": "stdout",
     "output_type": "stream",
     "text": [
      "Thought: I should look up UEFA EURO 2024 on Wikipedia to gather information about the event.  \n",
      "Action: wikipedia: UEFA EURO 2024  \n",
      "PAUSE  \n",
      " -- running wikipedia 'UEFA EURO 2024'\n",
      "Observation: The <span class=\"searchmatch\">2024</span> <span class=\"searchmatch\">UEFA</span> Men&#039;s European Football Championship, commonly referred to as <span class=\"searchmatch\">UEFA</span> <span class=\"searchmatch\">Euro</span> <span class=\"searchmatch\">2024</span> (stylised as <span class=\"searchmatch\">UEFA</span> <span class=\"searchmatch\">EURO</span> <span class=\"searchmatch\">2024</span>) or simply <span class=\"searchmatch\">Euro</span> <span class=\"searchmatch\">2024</span>, was the 17th\n",
      "Answer: UEFA EURO 2024 is the 17th UEFA Men's European Football Championship.\n"
     ]
    }
   ],
   "source": [
    "question = \"\"\"UEFA EURO 2024\"\"\"\n",
    "query(question)"
   ]
  },
  {
   "cell_type": "code",
   "execution_count": null,
   "metadata": {},
   "outputs": [],
   "source": []
  }
 ],
 "metadata": {
  "kernelspec": {
   "display_name": "llms",
   "language": "python",
   "name": "python3"
  },
  "language_info": {
   "codemirror_mode": {
    "name": "ipython",
    "version": 3
   },
   "file_extension": ".py",
   "mimetype": "text/x-python",
   "name": "python",
   "nbconvert_exporter": "python",
   "pygments_lexer": "ipython3",
   "version": "3.11.13"
  }
 },
 "nbformat": 4,
 "nbformat_minor": 2
}
