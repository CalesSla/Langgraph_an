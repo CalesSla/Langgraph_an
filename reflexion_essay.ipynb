{
 "cells": [
  {
   "cell_type": "markdown",
   "metadata": {},
   "source": []
  },
  {
   "cell_type": "code",
   "execution_count": 1,
   "metadata": {},
   "outputs": [
    {
     "data": {
      "text/plain": [
       "True"
      ]
     },
     "execution_count": 1,
     "metadata": {},
     "output_type": "execute_result"
    }
   ],
   "source": [
    "from dotenv import load_dotenv, find_dotenv\n",
    "load_dotenv(find_dotenv(), override=True)"
   ]
  },
  {
   "cell_type": "code",
   "execution_count": 2,
   "metadata": {},
   "outputs": [],
   "source": [
    "from langchain_core.messages import AnyMessage, SystemMessage, HumanMessage, AIMessage, ChatMessage\n",
    "from langgraph.graph import StateGraph, END\n",
    "from langchain_openai import ChatOpenAI\n",
    "\n",
    "model = ChatOpenAI(model=\"gpt-4o-mini\", temperature=0)"
   ]
  },
  {
   "cell_type": "code",
   "execution_count": 3,
   "metadata": {},
   "outputs": [],
   "source": [
    "from typing import TypedDict, List, Annotated\n",
    "\n",
    "class AgentState(TypedDict):\n",
    "    task: str\n",
    "    plan: str\n",
    "    draft: str\n",
    "    critique: str\n",
    "    content: List[str]\n",
    "    revision_number: int\n",
    "    max_revisions: int"
   ]
  },
  {
   "cell_type": "code",
   "execution_count": 4,
   "metadata": {},
   "outputs": [],
   "source": [
    "PLAN_PROMPT = \"\"\"You are an expert writer tasked with writing a high level outline of an essay.\n",
    "Write such an outline for the user provided topic.\n",
    "Give an outline of the essay along with any relevant notes or instructions for the sections.\n",
    "\"\"\"\n",
    "\n",
    "RESEARCH_PLAN_PROMPT = \"\"\"You are a researcher charged with providing information that can be used when writing the following essay.\n",
    "Generate a list of search queries that will gather any relevant information. Only generate 3 queries max.\n",
    "\"\"\"\n",
    "\n",
    "WRITER_PROMPT = \"\"\"You are an essay assistant tasked with writing excellent 5-paragraph essays.\n",
    "Generate the best essay possible for the user's request and the initial outline.\n",
    "If the user provides critique, respond with a revised version of your previous attempts.\n",
    "Utilize all the information below as needed:\n",
    "\n",
    "-------\n",
    "{content}\n",
    "\"\"\"\n",
    "\n",
    "REFLECTION_PROMPT = \"\"\"You are a teacher grading an essay submission.\n",
    "Generate critique and recommendations for the user's submission.\n",
    "Provide detailed recommendations, including requests  for length, depth, style, etc.\n",
    "\"\"\"\n",
    "\n",
    "RESEARCH_CRITIQUE_PROMPT = \"\"\"You are a researcher charged with providing information that can\n",
    "be used when making any requested revisions (as outlined below).\n",
    "Generate a list of search queries that will gather any relevant information. Only generate 3 queries max.\n",
    "\"\"\""
   ]
  },
  {
   "cell_type": "code",
   "execution_count": 5,
   "metadata": {},
   "outputs": [
    {
     "name": "stderr",
     "output_type": "stream",
     "text": [
      "/opt/anaconda3/envs/llms/lib/python3.11/site-packages/IPython/core/interactiveshell.py:3699: LangChainDeprecationWarning: As of langchain-core 0.3.0, LangChain uses pydantic v2 internally. The langchain_core.pydantic_v1 module was a compatibility shim for pydantic v1, and should no longer be used. Please update the code to import from Pydantic directly.\n",
      "\n",
      "For example, replace imports like: `from langchain_core.pydantic_v1 import BaseModel`\n",
      "with: `from pydantic import BaseModel`\n",
      "or the v1 compatibility namespace if you are working in a code base that has not been fully upgraded to pydantic 2 yet. \tfrom pydantic.v1 import BaseModel\n",
      "\n",
      "  exec(code_obj, self.user_global_ns, self.user_ns)\n"
     ]
    }
   ],
   "source": [
    "from langchain_core.pydantic_v1 import BaseModel\n",
    "\n",
    "class Queries(BaseModel):\n",
    "    queries: List[str]"
   ]
  },
  {
   "cell_type": "code",
   "execution_count": 6,
   "metadata": {},
   "outputs": [],
   "source": [
    "from tavily import TavilyClient\n",
    "import os\n",
    "\n",
    "tavily = TavilyClient(api_key=os.environ[\"TAVILY_API_KEY\"])"
   ]
  },
  {
   "cell_type": "code",
   "execution_count": 7,
   "metadata": {},
   "outputs": [],
   "source": [
    "def plan_node(state: AgentState):\n",
    "    messages = [\n",
    "        SystemMessage(content=PLAN_PROMPT),\n",
    "        HumanMessage(content=state[\"task\"])\n",
    "    ]\n",
    "    response = model.invoke(messages)\n",
    "    return {\"plan\": response.content}"
   ]
  },
  {
   "cell_type": "code",
   "execution_count": 8,
   "metadata": {},
   "outputs": [],
   "source": [
    "def research_plan_node(state: AgentState):\n",
    "    queries = model.with_structured_output(Queries).invoke([\n",
    "        SystemMessage(content=RESEARCH_PLAN_PROMPT),\n",
    "        HumanMessage(content=state[\"task\"])\n",
    "    ])\n",
    "    content = state.get(\"content\", [])\n",
    "    for q in queries.queries:\n",
    "        response = tavily.search(query=q, max_results=2)\n",
    "        for r in response[\"results\"]:\n",
    "            content.append(r[\"content\"])\n",
    "    return {\"content\": content}"
   ]
  },
  {
   "cell_type": "code",
   "execution_count": 9,
   "metadata": {},
   "outputs": [],
   "source": [
    "def generation_node(state: AgentState):\n",
    "    content = \"\\n\\n\".join(state.get(\"content\", []))\n",
    "    user_message = HumanMessage(content=f\"{state['task']}\\n\\nHere is my plan:\\n\\n{state['plan']}\")\n",
    "    messages = [\n",
    "        SystemMessage(content=WRITER_PROMPT.format(content=content)),\n",
    "        user_message\n",
    "    ]\n",
    "\n",
    "    response = model.invoke(messages)\n",
    "    return {\"draft\": response.content, \n",
    "            \"revision_number\": state.get(\"revision_number\", 1) + 1}"
   ]
  },
  {
   "cell_type": "code",
   "execution_count": 10,
   "metadata": {},
   "outputs": [],
   "source": [
    "def reflection_node(state: AgentState):\n",
    "    messages = [\n",
    "        SystemMessage(content=REFLECTION_PROMPT),\n",
    "        HumanMessage(content=state[\"draft\"])\n",
    "    ]\n",
    "    response = model.invoke(messages)\n",
    "    return {\"critique\": response.content}"
   ]
  },
  {
   "cell_type": "code",
   "execution_count": 11,
   "metadata": {},
   "outputs": [],
   "source": [
    "def research_critique_node(state: AgentState):\n",
    "    queries = model.with_structured_output(Queries).invoke([\n",
    "        SystemMessage(content=RESEARCH_CRITIQUE_PROMPT),\n",
    "        HumanMessage(content=state[\"critique\"])\n",
    "    ])\n",
    "\n",
    "    content = state.get(\"content\", [])\n",
    "    for q in queries.queries:\n",
    "        response = tavily.search(query=q, max_results=2)\n",
    "        for r in response[\"results\"]:\n",
    "            content.append(r[\"content\"])\n",
    "    return {\"content\": content}"
   ]
  },
  {
   "cell_type": "code",
   "execution_count": 12,
   "metadata": {},
   "outputs": [],
   "source": [
    "def should_continue(state):\n",
    "    if state[\"revision_number\"] > state[\"max_revisions\"]:\n",
    "        return END\n",
    "    return \"reflect\""
   ]
  },
  {
   "cell_type": "code",
   "execution_count": 13,
   "metadata": {},
   "outputs": [
    {
     "data": {
      "text/plain": [
       "<langgraph.graph.state.StateGraph at 0x1313f70d0>"
      ]
     },
     "execution_count": 13,
     "metadata": {},
     "output_type": "execute_result"
    }
   ],
   "source": [
    "builder = StateGraph(AgentState)\n",
    "\n",
    "builder.add_node(\"planner\", plan_node)\n",
    "builder.add_node(\"research_plan\", research_plan_node)\n",
    "builder.add_node(\"generate\", generation_node)\n",
    "builder.add_node(\"reflect\", reflection_node)\n",
    "builder.add_node(\"research_critique\", research_critique_node)\n",
    "\n",
    "builder.set_entry_point(\"planner\")\n",
    "\n",
    "builder.add_conditional_edges(\n",
    "    \"generate\",\n",
    "    should_continue,\n",
    "    {END: END, \"reflect\": \"reflect\"}\n",
    ")\n",
    "\n",
    "builder.add_edge(\"planner\", \"research_plan\")\n",
    "builder.add_edge(\"research_plan\", \"generate\")\n",
    "builder.add_edge(\"reflect\", \"research_critique\")\n",
    "builder.add_edge(\"research_critique\", \"generate\")"
   ]
  },
  {
   "cell_type": "code",
   "execution_count": 14,
   "metadata": {},
   "outputs": [],
   "source": [
    "from langgraph.checkpoint.sqlite import SqliteSaver\n",
    "from langgraph.checkpoint.memory import MemorySaver\n",
    "\n",
    "memory = SqliteSaver.from_conn_string(\":memory:\")\n",
    "graph = builder.compile(checkpointer=MemorySaver())"
   ]
  },
  {
   "cell_type": "code",
   "execution_count": 15,
   "metadata": {},
   "outputs": [
    {
     "data": {
      "image/png": "[encoded data removed]",
      "text/plain": [
       "<IPython.core.display.Image object>"
      ]
     },
     "metadata": {},
     "output_type": "display_data"
    }
   ],
   "source": [
    "from IPython.display import Image, display\n",
    "display(Image(graph.get_graph().draw_mermaid_png()))"
   ]
  },
  {
   "cell_type": "code",
   "execution_count": 16,
   "metadata": {},
   "outputs": [
    {
     "name": "stdout",
     "output_type": "stream",
     "text": [
      "{'planner': {'plan': \"### Essay Outline: Reflection vs. Reflexion in LangGraph\\n\\n#### I. Introduction\\n   A. Definition of key terms\\n      1. Reflection: The process of introspection and self-examination in programming and language processing.\\n      2. Reflexion: A term often used in cognitive science and psychology, referring to the automatic responses or reactions to stimuli.\\n   B. Importance of understanding these concepts in the context of LangGraph\\n   C. Thesis statement: This essay will explore the distinctions between reflection and reflexion within LangGraph, highlighting their implications for language processing and cognitive modeling.\\n\\n#### II. Overview of LangGraph\\n   A. Brief description of LangGraph\\n      1. Purpose and functionality\\n      2. Applications in natural language processing (NLP) and artificial intelligence (AI)\\n   B. Relevance of reflection and reflexion in LangGraph's architecture\\n\\n#### III. Reflection in LangGraph\\n   A. Explanation of reflection in programming and language processing\\n      1. How reflection allows for dynamic behavior in code\\n      2. Examples of reflection in LangGraph (e.g., self-modifying code, introspective capabilities)\\n   B. Benefits of reflection in LangGraph\\n      1. Enhanced adaptability and flexibility\\n      2. Improved debugging and error handling\\n   C. Challenges associated with reflection\\n      1. Performance overhead\\n      2. Complexity in implementation\\n\\n#### IV. Reflexion in LangGraph\\n   A. Explanation of reflexion in cognitive science\\n      1. Automatic responses and their significance in language processing\\n      2. How reflexion can be modeled in LangGraph\\n   B. Benefits of reflexion in LangGraph\\n      1. Streamlined processing of language inputs\\n      2. Enhanced user experience through intuitive responses\\n   C. Challenges associated with reflexion\\n      1. Limitations in understanding context\\n      2. Potential for misinterpretation of stimuli\\n\\n#### V. Comparative Analysis\\n   A. Key differences between reflection and reflexion in LangGraph\\n      1. Nature of processes (introspective vs. automatic)\\n      2. Applications and outcomes in language processing\\n   B. Situational appropriateness of each concept\\n      1. When to utilize reflection for dynamic programming needs\\n      2. When reflexion is more suitable for real-time language interactions\\n\\n#### VI. Implications for Future Development\\n   A. The role of reflection and reflexion in advancing LangGraph\\n   B. Potential areas for research and improvement\\n      1. Integrating both concepts for enhanced performance\\n      2. Exploring new applications in AI and NLP\\n\\n#### VII. Conclusion\\n   A. Recap of the significance of understanding reflection and reflexion in LangGraph\\n   B. Final thoughts on the future of language processing technologies\\n   C. Call to action for further exploration and research in the field\\n\\n### Notes and Instructions:\\n- Ensure that each section is well-researched and supported by relevant examples from LangGraph and existing literature.\\n- Use clear and concise language to explain complex concepts, making them accessible to a broad audience.\\n- Incorporate diagrams or flowcharts where necessary to illustrate the differences between reflection and reflexion visually.\\n- Consider including case studies or real-world applications to enhance the practical understanding of the concepts discussed.\\n- Maintain a balanced perspective, acknowledging both the advantages and limitations of reflection and reflexion in LangGraph.\"}}\n",
      "----------------------------------------------------------------------------------------------------\n"
     ]
    },
    {
     "name": "stderr",
     "output_type": "stream",
     "text": [
      "/opt/anaconda3/envs/llms/lib/python3.11/site-packages/langchain_openai/chat_models/base.py:1844: UserWarning: Received a Pydantic BaseModel V1 schema. This is not supported by method=\"json_schema\". Please use method=\"function_calling\" or specify schema via JSON Schema or Pydantic V2 BaseModel. Overriding to method=\"function_calling\".\n",
      "  warnings.warn(\n"
     ]
    },
    {
     "name": "stdout",
     "output_type": "stream",
     "text": [
      "{'research_plan': {'content': ['The same word, two spellings. Oxford English Dictionary... The spelling reflection is now much commoner than reflexion in all uses , probably largely as a result of association with reflect v.; compare also flexion n., connection n., etc.', 'Reflexion is a word that was often considered a substitute for reflection, but is seldom used nowadays. Reflect means bending of light after touching a surface', \"It better acknowledges the complexity and multi-faceted nature of the climate challenge.', 'superfluous': 'While detailed examples could potentially be trimmed, the answer covers the major considerations at a relatively high level so does not contain obvious extraneous information.'}, 'search_queries': ['overcoming political obstacles to climate action', 'transitioning major economies away from fossil fuel dependence', 'climate finance for developing countries', 'potential of nature-based solutions like reforestation'], 'references': [' ' 'name': 'ReviseAnswer', 'type': 'tool_use'}] It better acknowledges the complexity and multi-faceted nature of the climate challenge.', 'superfluous': 'While detailed examples could potentially be trimmed, the answer covers the major considerations at a relatively high level so does not contain obvious extraneous information.'}, 'search_queries': ['overcoming political obstacles to climate action', 'transitioning major economies away from fossil fuel dependence', 'climate finance for developing countries', 'potential of nature-based solutions like reforestation'], 'references': [' ' 'name': 'ReviseAnswer', 'type': 'tool_use'}]\", 'This post outlines how to build 3 reflection techniques using LangGraph, including implementations of Reflexion and Language Agent Tree Search. builder.add_edge(\"reflect\", \"generate\") al, is a general LLM agent search algorithm that combines reflection/evaluation and search (specifically Monte-Carlo trees search) to achieve better overall task performance compared to similar techniques like ReACT, Reflexion, or even Tree of Thoughts. If the agent has a tight feedback loop (through high quality environment rewards or reliable reflection scores), the search is able to accurately distinguish between different action trajectories and pick the best path. In our LangGraph implementation, we put generation + reflection steps in a single node each, and check the tree state on each loop to see if the task is solved.', \"At a high level, Reflexion converts feedback (either free-form language or scalar) from the environment into linguistic feedback, also referred to as **self-reflection**, which is provided as context for an LLM agent in the next episode. The figure below demonstrates examples of how a Reflexion agent can learn to iteratively optimize its behavior to solve various tasks such as decision-making, programming, and reasoning. Experimental results demonstrate that Reflexion agents significantly improve performance on decision-making AlfWorld tasks, reasoning questions in HotPotQA, and Python programming tasks on HumanEval. - **Reasoning**: Reflexion improved the performance of agents on HotPotQA, a question-answering dataset that requires reasoning over multiple documents. - **Reliance on self-evaluation capabilities**: Reflexion relies on the agent's ability to accurately evaluate its performance and generate useful self-reflections. - Reflexion: Language Agents with Verbal Reinforcement Learning (opens in a new tab)\", 'by A Toktanova · 2021 · Cited by 4 — Texts of modern literature and the press allow giving examples of various reflections. Thus, true linguistic reflection can cover almost all aspects of language ...See more']}}\n",
      "----------------------------------------------------------------------------------------------------\n",
      "{'generate': {'draft': '### Reflection vs. Reflexion in LangGraph\\n\\n#### I. Introduction\\nIn the realm of programming and language processing, the terms \"reflection\" and \"reflexion\" hold distinct meanings that are crucial for understanding their applications in systems like LangGraph. Reflection refers to the process of introspection and self-examination, allowing programs to analyze and modify their own structure and behavior. In contrast, reflexion, often associated with cognitive science, pertains to automatic responses or reactions to stimuli, which can be vital in language processing. Understanding these concepts is essential for leveraging their potential in LangGraph, a framework designed for natural language processing (NLP) and artificial intelligence (AI). This essay will explore the distinctions between reflection and reflexion within LangGraph, highlighting their implications for language processing and cognitive modeling.\\n\\n#### II. Overview of LangGraph\\nLangGraph is an innovative framework that integrates various techniques in NLP and AI to enhance language understanding and generation. Its primary purpose is to facilitate the development of intelligent systems capable of processing and responding to human language in a meaningful way. The architecture of LangGraph incorporates both reflection and reflexion, allowing it to adapt dynamically to user inputs while also providing automatic responses based on learned patterns. This duality is crucial for creating a robust language processing system that can handle the complexities of human communication.\\n\\n#### III. Reflection in LangGraph\\nReflection in LangGraph enables dynamic behavior in programming, allowing the system to introspect and modify its own code during execution. This capability is particularly useful for self-modifying code and introspective functionalities, where the system can analyze its performance and make adjustments in real-time. For instance, LangGraph can utilize reflection to debug its processes, enhancing adaptability and flexibility in handling diverse language tasks. However, the use of reflection comes with challenges, such as performance overhead and increased complexity in implementation. These factors must be carefully managed to ensure that the benefits of reflection outweigh its drawbacks.\\n\\n#### IV. Reflexion in LangGraph\\nReflexion, on the other hand, is rooted in cognitive science and focuses on automatic responses to stimuli. In the context of LangGraph, reflexion can be modeled to streamline the processing of language inputs, allowing the system to generate intuitive responses based on learned behaviors. This automaticity enhances user experience by providing quick and relevant replies, making interactions feel more natural. However, reflexion also presents challenges, particularly in understanding context and the potential for misinterpretation of stimuli. These limitations can hinder the effectiveness of reflexion in certain scenarios, necessitating careful consideration of its application.\\n\\n#### V. Comparative Analysis\\nThe key differences between reflection and reflexion in LangGraph lie in the nature of their processes and their applications in language processing. Reflection is introspective, allowing for dynamic programming needs, while reflexion is automatic, suited for real-time language interactions. Each concept has its situational appropriateness; reflection is ideal for scenarios requiring adaptability and self-evaluation, whereas reflexion excels in environments where quick, instinctive responses are necessary. Understanding these distinctions is vital for developers seeking to optimize LangGraph\\'s performance.\\n\\n#### VI. Implications for Future Development\\nThe integration of reflection and reflexion in LangGraph holds significant potential for advancing language processing technologies. Future research could focus on enhancing the synergy between these concepts, exploring how they can be combined to improve overall system performance. Additionally, investigating new applications in AI and NLP could lead to innovative solutions that leverage both introspective and automatic processing capabilities.\\n\\n#### VII. Conclusion\\nIn conclusion, understanding the differences between reflection and reflexion in LangGraph is essential for harnessing their potential in language processing. As technology continues to evolve, the implications of these concepts will play a crucial role in shaping the future of intelligent systems. Continued exploration and research in this field will be vital for developing more sophisticated and responsive language processing technologies, ultimately enhancing human-computer interaction.', 'revision_number': 2}}\n",
      "----------------------------------------------------------------------------------------------------\n",
      "{'reflect': {'critique': '### Critique and Recommendations for Your Essay Submission\\n\\nYour essay on \"Reflection vs. Reflexion in LangGraph\" presents a clear and structured exploration of two important concepts in programming and cognitive science as they relate to language processing. The organization of your essay is commendable, with a logical flow from introduction to conclusion. However, there are several areas where you could enhance the depth, clarity, and overall impact of your writing. Below are detailed recommendations:\\n\\n#### 1. **Length and Depth**\\n- **Recommendation**: While your essay is well-structured, it could benefit from additional depth in certain sections. Aim for a length of 1500-2000 words to allow for a more comprehensive exploration of each concept. \\n- **Specific Suggestions**: \\n  - In the \"Overview of LangGraph\" section, consider providing more technical details about its architecture and specific use cases. This will help readers unfamiliar with LangGraph understand its significance.\\n  - Expand on the implications of reflection and reflexion in practical applications. Include examples or case studies that illustrate how these concepts are applied in real-world scenarios.\\n\\n#### 2. **Clarity and Precision**\\n- **Recommendation**: Some terms and concepts could be clarified further to ensure that all readers, regardless of their background, can grasp the nuances of your discussion.\\n- **Specific Suggestions**: \\n  - Define \"introspection\" and \"self-examination\" more explicitly when discussing reflection. Consider using analogies or examples to illustrate these concepts.\\n  - In the \"Reflexion in LangGraph\" section, clarify the relationship between reflexion and cognitive science. A brief explanation of how reflexion is modeled in AI systems would enhance understanding.\\n\\n#### 3. **Style and Tone**\\n- **Recommendation**: The tone of your essay is generally academic, which is appropriate for the subject matter. However, strive for a more engaging style that invites the reader into the discussion.\\n- **Specific Suggestions**: \\n  - Use varied sentence structures to maintain reader interest. For example, intersperse longer, complex sentences with shorter, impactful ones.\\n  - Consider incorporating rhetorical questions or thought-provoking statements to engage the reader more actively.\\n\\n#### 4. **Comparative Analysis**\\n- **Recommendation**: The comparative analysis section is a strong point, but it could be enhanced by integrating more direct comparisons and contrasts.\\n- **Specific Suggestions**: \\n  - Create a table or bullet points summarizing the key differences and similarities between reflection and reflexion. This visual aid can help readers quickly grasp the distinctions.\\n  - Discuss potential overlaps or interactions between reflection and reflexion, providing a more nuanced view of how they can complement each other in LangGraph.\\n\\n#### 5. **Implications for Future Development**\\n- **Recommendation**: This section is crucial for demonstrating the relevance of your discussion. Expand on potential future research directions and their significance.\\n- **Specific Suggestions**: \\n  - Propose specific research questions or projects that could explore the integration of reflection and reflexion in LangGraph.\\n  - Discuss the ethical implications of using these concepts in AI and NLP, considering how they might affect user trust and system transparency.\\n\\n#### 6. **Conclusion**\\n- **Recommendation**: Your conclusion effectively summarizes the main points, but it could be more impactful.\\n- **Specific Suggestions**: \\n  - Reiterate the importance of understanding these concepts not just for developers but for users and stakeholders in AI and NLP.\\n  - End with a forward-looking statement that emphasizes the potential of LangGraph and similar frameworks to revolutionize human-computer interaction.\\n\\n### Final Thoughts\\nOverall, your essay provides a solid foundation for discussing reflection and reflexion in LangGraph. By incorporating these recommendations, you can enhance the clarity, depth, and engagement of your writing, making it more accessible and impactful for your audience. I look forward to seeing your revised submission!'}}\n",
      "----------------------------------------------------------------------------------------------------\n"
     ]
    },
    {
     "name": "stderr",
     "output_type": "stream",
     "text": [
      "/opt/anaconda3/envs/llms/lib/python3.11/site-packages/langchain_openai/chat_models/base.py:1844: UserWarning: Received a Pydantic BaseModel V1 schema. This is not supported by method=\"json_schema\". Please use method=\"function_calling\" or specify schema via JSON Schema or Pydantic V2 BaseModel. Overriding to method=\"function_calling\".\n",
      "  warnings.warn(\n"
     ]
    },
    {
     "name": "stdout",
     "output_type": "stream",
     "text": [
      "{'research_critique': {'content': ['The same word, two spellings. Oxford English Dictionary... The spelling reflection is now much commoner than reflexion in all uses , probably largely as a result of association with reflect v.; compare also flexion n., connection n., etc.', 'Reflexion is a word that was often considered a substitute for reflection, but is seldom used nowadays. Reflect means bending of light after touching a surface', \"It better acknowledges the complexity and multi-faceted nature of the climate challenge.', 'superfluous': 'While detailed examples could potentially be trimmed, the answer covers the major considerations at a relatively high level so does not contain obvious extraneous information.'}, 'search_queries': ['overcoming political obstacles to climate action', 'transitioning major economies away from fossil fuel dependence', 'climate finance for developing countries', 'potential of nature-based solutions like reforestation'], 'references': [' ' 'name': 'ReviseAnswer', 'type': 'tool_use'}] It better acknowledges the complexity and multi-faceted nature of the climate challenge.', 'superfluous': 'While detailed examples could potentially be trimmed, the answer covers the major considerations at a relatively high level so does not contain obvious extraneous information.'}, 'search_queries': ['overcoming political obstacles to climate action', 'transitioning major economies away from fossil fuel dependence', 'climate finance for developing countries', 'potential of nature-based solutions like reforestation'], 'references': [' ' 'name': 'ReviseAnswer', 'type': 'tool_use'}]\", 'This post outlines how to build 3 reflection techniques using LangGraph, including implementations of Reflexion and Language Agent Tree Search. builder.add_edge(\"reflect\", \"generate\") al, is a general LLM agent search algorithm that combines reflection/evaluation and search (specifically Monte-Carlo trees search) to achieve better overall task performance compared to similar techniques like ReACT, Reflexion, or even Tree of Thoughts. If the agent has a tight feedback loop (through high quality environment rewards or reliable reflection scores), the search is able to accurately distinguish between different action trajectories and pick the best path. In our LangGraph implementation, we put generation + reflection steps in a single node each, and check the tree state on each loop to see if the task is solved.', \"At a high level, Reflexion converts feedback (either free-form language or scalar) from the environment into linguistic feedback, also referred to as **self-reflection**, which is provided as context for an LLM agent in the next episode. The figure below demonstrates examples of how a Reflexion agent can learn to iteratively optimize its behavior to solve various tasks such as decision-making, programming, and reasoning. Experimental results demonstrate that Reflexion agents significantly improve performance on decision-making AlfWorld tasks, reasoning questions in HotPotQA, and Python programming tasks on HumanEval. - **Reasoning**: Reflexion improved the performance of agents on HotPotQA, a question-answering dataset that requires reasoning over multiple documents. - **Reliance on self-evaluation capabilities**: Reflexion relies on the agent's ability to accurately evaluate its performance and generate useful self-reflections. - Reflexion: Language Agents with Verbal Reinforcement Learning (opens in a new tab)\", 'by A Toktanova · 2021 · Cited by 4 — Texts of modern literature and the press allow giving examples of various reflections. Thus, true linguistic reflection can cover almost all aspects of language ...See more', 'Languages without reflection such as C \"C (programming language)\") are required to use auxiliary compilers for tasks like Abstract Syntax Notation to produce code for serialization and bundling. In object-oriented programming languages such as Java \"Java (programming language)\"), reflection allows _inspection_ of classes, interfaces, fields and methods at runtime without knowing the names of the interfaces, fields, methods at compile time. Reflection can be implemented for languages without built-in reflection by using a program transformation system to define automated source-code changes. ;; With reflection to look up the class named \"foo\" and the method Reflect.apply(hello, foo, []) // Sending \"hello\" to a Foo instance without reflection. # Without reflection, assuming foo() returns an S3-type object that has method \"hello\"', 'Jan 3, 2020·The ability to look in the mirror and see all your properties is basically called Reflection or Introspection in the field of computer programming.', 'Image 9: table summarizing 8 common agentic workflow patterns LangGraph is a graph-based orchestration framework for AI agents that was made possible by the launch of LangChain. Image 11: table summarizing 8 common agentic workflow patterns LangGraph transforms AI agent orchestration, Shifting from a linear pipeline to an agent-driven, dynamic decision loop. LangGraph turns the idea of an AI agent into a scalable system — letting developers coordinate multiple agents or tool calls within a governed workflow. Image 14: table summarizing 8 common agentic workflow patterns Developers building with LangGraph can designate points where a human should approve or review an agent’s output before moving on, known as human-in-the-loop (HIL) workflows.', \"Design agent-driven user experiences with LangGraph Platform's APIs. Quickly deploy and scale your application with infrastructure built for agents. LangGraph sets the foundation for how we can build and scale AI workloads — from conversational agents, complex task automation, to custom LLM-backed experiences that 'just work'. The next chapter in building complex production-ready features with LLMs is agentic, and with LangGraph and LangSmith, LangChain delivers an out-of-the-box solution to iterate quickly, debug immediately, and scale effortlessly.” LangGraph sets the foundation for how we can build and scale AI workloads — from conversational agents, complex task automation, to custom LLM-backed experiences that 'just work'. LangGraph Platform is a service for deploying and scaling LangGraph applications, with an opinionated API for building agent UXs, plus an integrated developer studio.\", \"This opinion article investigates the concept that an overreliance on AICs could potentially lead to cognitive decline [i.e., cognitive atrophy (CA)], which we labeled here as “AICs induced cognitive atrophy, AICICA.” Based on the growing concerns surrounding the potential cognitive consequences of AICICA, as discussed in the extended mind theory (EMT) and the parallels drawn with problematic Internet use (PIU), we aimed to (i) Define and clarify the concept of AICICA within the context of the EMT and its similarities to PIU; (ii) Propose the assessment of AICICA's prevalence and patterns as a future research objective (once the concept has been well-established and accepted); (iii) Suggest the exploration of long-term cognitive effects and potential causal relationships between overreliance on AICs and CA as a future research direction; and (iv) Evaluate the effectiveness of tailored interventions designed to mitigate AICICA, thereby fostering a balanced utilization of AICs within cognitive ecosystems.\", 'Reflective Artificial Intelligence | Minds and Machines  Then, drawing on notions of reflection in complex systems, cognitive science, and agents, we sketch an architecture for reflective AI agents, and highlight ways forward. In designing and analysing embodied AI technologies, the concept of an _intelligent agent_ is central, and necessitates descriptions that are abstracted from the natural intelligences they are inspired by or modelled on. This abstraction, in turn, means that the notion of an AI agent only partially captures the mental, cognitive, and physical features of natural intelligence. *   Lewis, P.R., Platzner, M., Rinner, B., et al. Towards an approach for modelling uncertain theory of mind in multi-agent systems. Modelling deception using theory of mind in multi-agent systems. In Lewis, P.R., Platzner, M., Rinner, B., et al (eds) Self-aware computing systems: An engineering approach.']}}\n",
      "----------------------------------------------------------------------------------------------------\n",
      "{'generate': {'draft': '### Reflection vs. Reflexion in LangGraph\\n\\n#### I. Introduction\\nIn the realm of programming and artificial intelligence, the terms \"reflection\" and \"reflexion\" hold significant yet distinct meanings. Reflection refers to the process of introspection and self-examination, allowing systems to analyze and modify their behavior dynamically. In contrast, reflexion, often associated with cognitive science, pertains to automatic responses or reactions to stimuli, which can be crucial in understanding human-like interactions in AI. Understanding these concepts is vital in the context of LangGraph, a framework designed for orchestrating AI agents. This essay will explore the distinctions between reflection and reflexion within LangGraph, highlighting their implications for language processing and cognitive modeling.\\n\\n#### II. Overview of LangGraph\\nLangGraph is a graph-based orchestration framework that enables developers to create and manage AI agents effectively. Its primary purpose is to facilitate natural language processing (NLP) and artificial intelligence (AI) applications by providing a structured environment for agent interactions. The architecture of LangGraph is inherently designed to leverage both reflection and reflexion, allowing for a more nuanced approach to language processing. By integrating these concepts, LangGraph enhances the capabilities of AI agents, making them more adaptable and responsive to user inputs.\\n\\n#### III. Reflection in LangGraph\\nReflection in programming and language processing allows for dynamic behavior in code, enabling systems to introspect and modify their operations based on internal states. In LangGraph, reflection manifests through self-modifying code and introspective capabilities, allowing agents to assess their performance and adjust their strategies accordingly. For instance, an agent might analyze its previous interactions to improve future responses, showcasing the adaptability that reflection provides. The benefits of reflection in LangGraph include enhanced flexibility and improved debugging, as developers can identify and rectify issues in real-time. However, challenges such as performance overhead and implementation complexity must be considered, as they can hinder the efficiency of reflective processes.\\n\\n#### IV. Reflexion in LangGraph\\nReflexion, on the other hand, is rooted in cognitive science and involves automatic responses to stimuli, which can significantly impact language processing. In LangGraph, reflexion can be modeled to streamline the processing of language inputs, allowing agents to respond intuitively to user queries. This capability enhances user experience by providing quick and relevant responses, mimicking human-like interactions. The benefits of reflexion in LangGraph include improved efficiency in handling language inputs and a more engaging user experience. However, challenges such as limitations in understanding context and the potential for misinterpretation of stimuli can arise, necessitating careful design and implementation.\\n\\n#### V. Comparative Analysis\\nThe key differences between reflection and reflexion in LangGraph lie in the nature of their processes and their applications in language processing. Reflection is introspective, allowing for dynamic adjustments based on internal evaluations, while reflexion is automatic, focusing on immediate responses to external stimuli. Each concept has situational appropriateness; reflection is ideal for scenarios requiring adaptability and complex decision-making, whereas reflexion is more suitable for real-time interactions where speed and efficiency are paramount. Understanding when to utilize each concept can significantly enhance the performance of AI agents within LangGraph.\\n\\n#### VI. Implications for Future Development\\nThe integration of reflection and reflexion in LangGraph presents exciting opportunities for advancing AI capabilities. Future development could focus on enhancing the synergy between these concepts, allowing for more sophisticated language processing and cognitive modeling. Potential areas for research include exploring new applications in AI and NLP, as well as developing tailored interventions that leverage both reflection and reflexion to improve agent performance. By fostering a balanced utilization of these concepts, LangGraph can continue to evolve and meet the demands of increasingly complex language processing tasks.\\n\\n#### VII. Conclusion\\nIn conclusion, understanding the distinctions between reflection and reflexion is crucial for leveraging the full potential of LangGraph in language processing and cognitive modeling. Both concepts offer unique advantages and challenges that can significantly impact the performance of AI agents. As technology continues to advance, further exploration and research into these concepts will be essential for developing more effective and intuitive language processing technologies. The future of AI and NLP lies in the thoughtful integration of reflection and reflexion, paving the way for more intelligent and responsive systems.', 'revision_number': 3}}\n",
      "----------------------------------------------------------------------------------------------------\n"
     ]
    }
   ],
   "source": [
    "thread = {'configurable': {'thread_id': 1}}\n",
    "task = \"Write an essay about Reflection vs. Reflexion in LangGraph.\"\n",
    "\n",
    "prompt = {\n",
    "    \"task\": task,\n",
    "    \"max_revisions\": 2,\n",
    "    \"revision_number\": 1\n",
    "}\n",
    "\n",
    "events = graph.stream(prompt, thread)\n",
    "for e in events:\n",
    "    print(e)\n",
    "    print(\"-\" * 100)"
   ]
  },
  {
   "cell_type": "code",
   "execution_count": 17,
   "metadata": {},
   "outputs": [
    {
     "name": "stdout",
     "output_type": "stream",
     "text": [
      "### Reflection vs. Reflexion in LangGraph\n",
      "\n",
      "#### I. Introduction\n",
      "In the realm of programming and artificial intelligence, the terms \"reflection\" and \"reflexion\" hold significant yet distinct meanings. Reflection refers to the process of introspection and self-examination, allowing systems to analyze and modify their behavior dynamically. In contrast, reflexion, often associated with cognitive science, pertains to automatic responses or reactions to stimuli, which can be crucial in understanding human-like interactions in AI. Understanding these concepts is vital in the context of LangGraph, a framework designed for orchestrating AI agents. This essay will explore the distinctions between reflection and reflexion within LangGraph, highlighting their implications for language processing and cognitive modeling.\n",
      "\n",
      "#### II. Overview of LangGraph\n",
      "LangGraph is a graph-based orchestration framework that enables developers to create and manage AI agents effectively. Its primary purpose is to facilitate natural language processing (NLP) and artificial intelligence (AI) applications by providing a structured environment for agent interactions. The architecture of LangGraph is inherently designed to leverage both reflection and reflexion, allowing for a more nuanced approach to language processing. By integrating these concepts, LangGraph enhances the capabilities of AI agents, making them more adaptable and responsive to user inputs.\n",
      "\n",
      "#### III. Reflection in LangGraph\n",
      "Reflection in programming and language processing allows for dynamic behavior in code, enabling systems to introspect and modify their operations based on internal states. In LangGraph, reflection manifests through self-modifying code and introspective capabilities, allowing agents to assess their performance and adjust their strategies accordingly. For instance, an agent might analyze its previous interactions to improve future responses, showcasing the adaptability that reflection provides. The benefits of reflection in LangGraph include enhanced flexibility and improved debugging, as developers can identify and rectify issues in real-time. However, challenges such as performance overhead and implementation complexity must be considered, as they can hinder the efficiency of reflective processes.\n",
      "\n",
      "#### IV. Reflexion in LangGraph\n",
      "Reflexion, on the other hand, is rooted in cognitive science and involves automatic responses to stimuli, which can significantly impact language processing. In LangGraph, reflexion can be modeled to streamline the processing of language inputs, allowing agents to respond intuitively to user queries. This capability enhances user experience by providing quick and relevant responses, mimicking human-like interactions. The benefits of reflexion in LangGraph include improved efficiency in handling language inputs and a more engaging user experience. However, challenges such as limitations in understanding context and the potential for misinterpretation of stimuli can arise, necessitating careful design and implementation.\n",
      "\n",
      "#### V. Comparative Analysis\n",
      "The key differences between reflection and reflexion in LangGraph lie in the nature of their processes and their applications in language processing. Reflection is introspective, allowing for dynamic adjustments based on internal evaluations, while reflexion is automatic, focusing on immediate responses to external stimuli. Each concept has situational appropriateness; reflection is ideal for scenarios requiring adaptability and complex decision-making, whereas reflexion is more suitable for real-time interactions where speed and efficiency are paramount. Understanding when to utilize each concept can significantly enhance the performance of AI agents within LangGraph.\n",
      "\n",
      "#### VI. Implications for Future Development\n",
      "The integration of reflection and reflexion in LangGraph presents exciting opportunities for advancing AI capabilities. Future development could focus on enhancing the synergy between these concepts, allowing for more sophisticated language processing and cognitive modeling. Potential areas for research include exploring new applications in AI and NLP, as well as developing tailored interventions that leverage both reflection and reflexion to improve agent performance. By fostering a balanced utilization of these concepts, LangGraph can continue to evolve and meet the demands of increasingly complex language processing tasks.\n",
      "\n",
      "#### VII. Conclusion\n",
      "In conclusion, understanding the distinctions between reflection and reflexion is crucial for leveraging the full potential of LangGraph in language processing and cognitive modeling. Both concepts offer unique advantages and challenges that can significantly impact the performance of AI agents. As technology continues to advance, further exploration and research into these concepts will be essential for developing more effective and intuitive language processing technologies. The future of AI and NLP lies in the thoughtful integration of reflection and reflexion, paving the way for more intelligent and responsive systems.\n"
     ]
    }
   ],
   "source": [
    "print(e[\"generate\"][\"draft\"])"
   ]
  },
  {
   "cell_type": "code",
   "execution_count": null,
   "metadata": {},
   "outputs": [],
   "source": []
  }
 ],
 "metadata": {
  "kernelspec": {
   "display_name": "llms",
   "language": "python",
   "name": "python3"
  },
  "language_info": {
   "codemirror_mode": {
    "name": "ipython",
    "version": 3
   },
   "file_extension": ".py",
   "mimetype": "text/x-python",
   "name": "python",
   "nbconvert_exporter": "python",
   "pygments_lexer": "ipython3",
   "version": "3.11.13"
  }
 },
 "nbformat": 4,
 "nbformat_minor": 2
}
