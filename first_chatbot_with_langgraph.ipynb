{
 "cells": [
  {
   "cell_type": "code",
   "execution_count": 1,
   "metadata": {},
   "outputs": [
    {
     "data": {
      "text/plain": [
       "True"
      ]
     },
     "execution_count": 1,
     "metadata": {},
     "output_type": "execute_result"
    }
   ],
   "source": [
    "from langgraph.graph import StateGraph\n",
    "from typing import Annotated\n",
    "from typing_extensions import TypedDict\n",
    "from langgraph.graph.message import add_messages\n",
    "from langchain_openai import ChatOpenAI\n",
    "from dotenv import load_dotenv, find_dotenv\n",
    "load_dotenv(find_dotenv(), override=True)"
   ]
  },
  {
   "cell_type": "code",
   "execution_count": 2,
   "metadata": {},
   "outputs": [],
   "source": [
    "class State(TypedDict):\n",
    "    messages: Annotated[list, add_messages]\n",
    "\n",
    "\n",
    "graph_builder = StateGraph(State)\n",
    "\n",
    "llm = ChatOpenAI(model_name=\"gpt-4o-mini\", temperature=0.5)\n",
    "\n",
    "def chatbot(state: State):\n",
    "    return {\"messages\": [llm.invoke(state[\"messages\"])]}\n",
    "\n",
    "graph_builder.add_node(\"chatbot\", chatbot)\n",
    "graph_builder.set_entry_point(\"chatbot\")\n",
    "graph_builder.set_finish_point(\"chatbot\")\n",
    "\n",
    "graph = graph_builder.compile()"
   ]
  },
  {
   "cell_type": "code",
   "execution_count": 3,
   "metadata": {},
   "outputs": [
    {
     "data": {
      "image/png": "[encoded data removed]",
      "text/plain": [
       "<IPython.core.display.Image object>"
      ]
     },
     "metadata": {},
     "output_type": "display_data"
    }
   ],
   "source": [
    "from IPython.display import Image, display\n",
    "\n",
    "display(Image(graph.get_graph().draw_mermaid_png()))"
   ]
  },
  {
   "cell_type": "code",
   "execution_count": 4,
   "metadata": {},
   "outputs": [
    {
     "name": "stdout",
     "output_type": "stream",
     "text": [
      "+-----------+  \n",
      "| __start__ |  \n",
      "+-----------+  \n",
      "      *        \n",
      "      *        \n",
      "      *        \n",
      " +---------+   \n",
      " | chatbot |   \n",
      " +---------+   \n",
      "      *        \n",
      "      *        \n",
      "      *        \n",
      " +---------+   \n",
      " | __end__ |   \n",
      " +---------+   \n"
     ]
    }
   ],
   "source": [
    "print(graph.get_graph().draw_ascii())"
   ]
  },
  {
   "cell_type": "code",
   "execution_count": 5,
   "metadata": {},
   "outputs": [
    {
     "name": "stdout",
     "output_type": "stream",
     "text": [
      "Assistant: Hello! How can I assist you today?\n",
      "--------------------\n",
      "Assistant: The average distance from the Earth to the Moon is about 384,400 kilometers (approximately 238,855 miles). This distance can vary slightly due to the Moon's elliptical orbit around the Earth.\n",
      "--------------------\n",
      "Assistant: The average distance from the Earth to the Moon is approximately 384,400 kilometers (about 238,855 miles). This distance can vary slightly due to the Moon's elliptical orbit around the Earth.\n",
      "--------------------\n",
      "Assistant: Paris is the capital city of France, known for its rich history, art, fashion, and culture. The city is famous for iconic landmarks such as the Eiffel Tower, the Louvre Museum, Notre-Dame Cathedral, and the Champs-Élysées. Paris is often referred to as \"The City of Light\" (La Ville Lumière) due to its historical significance as a center of education and ideas during the Age of Enlightenment. The city is also renowned for its cuisine, cafés, and vibrant neighborhoods like Montmartre and Le Marais. Paris attracts millions of tourists each year, making it one of the most visited cities in the world.\n",
      "--------------------\n",
      "Goodbye!\n"
     ]
    }
   ],
   "source": [
    "while True:\n",
    "    user_input = input(\"User: \")\n",
    "    if user_input.lower() in [\"quit\", \"exit\", \"bye\", \"q\"]:\n",
    "        print(\"Goodbye!\")\n",
    "        break\n",
    "\n",
    "    for event in graph.stream({\"messages\": (\"user\", user_input)}):\n",
    "        for value in event.values():\n",
    "            print(f\"Assistant: {value['messages'][-1].content}\")\n",
    "            print(\"-\" * 20)"
   ]
  },
  {
   "cell_type": "code",
   "execution_count": 7,
   "metadata": {},
   "outputs": [
    {
     "data": {
      "text/plain": [
       "True"
      ]
     },
     "execution_count": 7,
     "metadata": {},
     "output_type": "execute_result"
    }
   ],
   "source": [
    "from dotenv import load_dotenv, find_dotenv\n",
    "load_dotenv(find_dotenv(), override=True)"
   ]
  },
  {
   "cell_type": "code",
   "execution_count": 9,
   "metadata": {},
   "outputs": [
    {
     "data": {
      "text/plain": [
       "{'query': 'What is the Bitcoin price today?',\n",
       " 'follow_up_questions': None,\n",
       " 'answer': None,\n",
       " 'images': [],\n",
       " 'results': [{'url': 'https://coinmarketcap.com/currencies/bitcoin/',\n",
       "   'title': 'Bitcoin price today, BTC to USD live price, marketcap and chart',\n",
       "   'content': 'The live Bitcoin price today is $113568.48 USD with a 24-hour trading volume of $65248768259.25 USD. We update our BTC to USD price in real-time.',\n",
       "   'score': 0.9436445,\n",
       "   'raw_content': None},\n",
       "  {'url': 'https://www.kraken.com/prices/bitcoin',\n",
       "   'title': 'Bitcoin price today - BTC price chart & live trends - Kraken',\n",
       "   'content': \"Bitcoin price today is $114,087.00. In the last 24 hours Bitcoin's price moved +0.08%. The current BTC to USD conversion rate is $114,087.00 per BTC.\",\n",
       "   'score': 0.94109917,\n",
       "   'raw_content': None},\n",
       "  {'url': 'https://www.coindesk.com/price/bitcoin',\n",
       "   'title': 'Bitcoin (BTC) Price | BTC to USD Price and Live Chart - CoinDesk',\n",
       "   'content': 'The price of Bitcoin (BTC) is $113584.61 today as of Aug 21, 2025, 5:50 am EDT, with a 24-hour trading volume of $20.89B.',\n",
       "   'score': 0.9247491,\n",
       "   'raw_content': None},\n",
       "  {'url': 'https://www.tradingview.com/symbols/BTCUSD/',\n",
       "   'title': 'BTC USD — Bitcoin Price and Chart - TradingView',\n",
       "   'content': 'The current price of Bitcoin (BTC) is 113,873 USD — it has risen 1.27% in the past 24 hours. Try placing this info into the context by checking out what coins',\n",
       "   'score': 0.90965873,\n",
       "   'raw_content': None},\n",
       "  {'url': 'https://www.coinbase.com/price/bitcoin',\n",
       "   'title': 'Bitcoin Price, BTC Price, Live Charts, and Marketcap - Coinbase',\n",
       "   'content': \"The latest BTC price is $113,656.43. Compared to Bitcoin's value of $113,524.30 from 24 hours ago, there's been a 0% increase, while the current price is -8%\",\n",
       "   'score': 0.89545894,\n",
       "   'raw_content': None}],\n",
       " 'response_time': 1.01,\n",
       " 'request_id': 'f988c787-27eb-4e2f-a92f-e21b4b4b4dda'}"
      ]
     },
     "execution_count": 9,
     "metadata": {},
     "output_type": "execute_result"
    }
   ],
   "source": [
    "from tavily import TavilyClient\n",
    "import os\n",
    "\n",
    "client = TavilyClient(api_key=os.getenv(\"TAVILY_API_KEY\"))\n",
    "\n",
    "response = client.search(query=\"What is the Bitcoin price today?\")\n",
    "response"
   ]
  },
  {
   "cell_type": "code",
   "execution_count": 10,
   "metadata": {},
   "outputs": [
    {
     "name": "stdout",
     "output_type": "stream",
     "text": [
      "Title: Bitcoin price today, BTC to USD live price, marketcap and chart, UR:: https://coinmarketcap.com/currencies/bitcoin/\n",
      "Title: Bitcoin price today - BTC price chart & live trends - Kraken, UR:: https://www.kraken.com/prices/bitcoin\n",
      "Title: Bitcoin (BTC) Price | BTC to USD Price and Live Chart - CoinDesk, UR:: https://www.coindesk.com/price/bitcoin\n",
      "Title: BTC USD — Bitcoin Price and Chart - TradingView, UR:: https://www.tradingview.com/symbols/BTCUSD/\n",
      "Title: Bitcoin Price, BTC Price, Live Charts, and Marketcap - Coinbase, UR:: https://www.coinbase.com/price/bitcoin\n"
     ]
    }
   ],
   "source": [
    "for result in response['results']:\n",
    "    print(f\"Title: {result['title']}, UR:: {result['url']}\")"
   ]
  },
  {
   "cell_type": "code",
   "execution_count": 15,
   "metadata": {},
   "outputs": [
    {
     "data": {
      "text/plain": [
       "{'query': 'What are the best programming languages to learn this year?',\n",
       " 'follow_up_questions': None,\n",
       " 'answer': 'In 2025, Python is highly recommended for versatility, C++ for speed, and JavaScript for web development. Focus on languages that match your career goals and industry trends.',\n",
       " 'images': ['https://infographicplaza.com/wp-content/uploads/top-10-programming-languages-infographic-plaza.jpg',\n",
       "  'https://distantjob.com/wp-content/uploads/2022/01/Top-Programming-Languages-comparison-table.jpg',\n",
       "  'https://cdn.ttgtmedia.com/rms/onlineImages/app_arch-top_languages-f_mobile.png',\n",
       "  'https://i.pinimg.com/originals/10/73/3a/10733aa843404536ea74f5ad3923d742.png',\n",
       "  'https://codinginfinite.com/wp-content/uploads/2019/10/Screenshot-2019-10-22-at-10.21.23-PM.png'],\n",
       " 'results': [{'url': 'https://www.fullstackacademy.com/blog/nine-best-programming-languages-to-learn',\n",
       "   'title': 'The 15 Best Programming Languages to Learn in 2025',\n",
       "   'content': \"With over 700 programming languages to choose from, you’re likely wondering which programming language is the best to learn. Your choice will ultimately depend on your skill level, career goals, and which languages employers are using in their organizations. To help you get started, here are the 15 best programming languages to learn in 2025.\\n\\nImage 3\\n### 1. JavaScript [...] The 15 Best Programming Languages to Learn in 2025\\n\\n===============\\nSkip to main content\\n\\n and actions (methods). This object-based approach is widely used, with Python, Java, and C++ being prominent examples.\\n\\n4.   Scripting and Dynamic Languages: These lightweight languages are often used for automating tasks or adding interactivity to web pages. JavaScript and Ruby are commonly used scripting languages. [...] Copyright © 2025, Fullstack Academy, LLC.\\n\\nFullstack Academy is licensed by the New York State Education Department.\\n\\nRegulatory InformationPrivacy PolicyLegal Disclosure\\n\\nBrowser Incompatible\\n\\nYou're using an outdated browser. Please use a modern, updated browser to use this site.\\n\\nImage 20: firefox browser logo Install FirefoxImage 21: chrome browser logo Install ChromeImage 22: edge browser logo Install Edge\",\n",
       "   'score': 0.8342047,\n",
       "   'raw_content': None},\n",
       "  {'url': 'https://www.youtube.com/watch?v=NClmyC6olC0',\n",
       "   'title': 'Top Programming Languages to Learn in 2025',\n",
       "   'content': \"create practical no fluff tutorials road maps and career advice to help you succeed if that sounds good H subscribe and check out the other videos on this channel all right let's talk about the top programming languages for 2025 first up is python it's still the Python king of programming languages why because it's super versatile beginner friendly and Powers some of the coolest take out there like data science machine learning web development and Automation in 2025 AI is only getting bigger [...] especially if you're just starting out but there is a reason and it's still so popular C++ is all about speed and control it Powers everything from game engines to highfrequency trading systems it's huge in Industries like Automotive Robotics and real-time simulations so if you're into cutting Ed Tech C++ is worth your time and there you have it the top programming languages to learn in 2025 whether you're starting your coding Journey or leveling up your skills these languages open doors to [...] amazing opportunities python Java JavaScript typescript cql and C++ each have unique strengths so pick the one that fits your goals now what do you think did your favorite language make the list let me know in the comments below if you found this video helpful give it a like And subscribe for more helpful videos thanks for watching\",\n",
       "   'score': 0.8232293,\n",
       "   'raw_content': None},\n",
       "  {'url': 'https://www.pluralsight.com/resources/blog/upskilling/top-programming-languages-2025',\n",
       "   'title': 'Top 10 programming languages in 2025',\n",
       "   'content': 'C++ and C# switched places in our rankings this year like cars jostling for the lead. C# is a general purpose, high-level language that is easier to learn and is less error prone than C++, but it’s not as fast and has a larger memory footprint. Given this need might be being filled by other languages right now, this could explain why C# has slid slightly down the ranks.\\n\\n#6 - Typescript (Up +2)\\n----------------------- [...] Rustis crawling up the rankings, sitting at #15 in 2022 and now at #11 for this year’s rankings. We expect to see it officially in the top 10 in the near future.\\n   Swift is also crawling up the rankings, not even making our 2022 figures, and now sitting at #15. Only time will tell it if pushes out another language to squeeze into the top listings.\\n   R(#12) and Ruby(#14) are popular, but slowly falling down the rankings behind the scenes as other languages sneak past. [...] Among tech learners on the Pluralsight platform, languages such as Kotlin are very popular, but this is not reflected in industry usage just yet.',\n",
       "   'score': 0.7933146,\n",
       "   'raw_content': None},\n",
       "  {'url': 'https://dev.to/taikedz/what-programming-language-should-i-learn-this-year-2025--meo/comments',\n",
       "   'title': 'What ((programming) language) should I learn this year ...',\n",
       "   'content': \"It's a question that is evergreen, but especially prevalent at the turn of the year: what skills should I learn this year? It's not just programmi... \\n\\nRead full post\\n\\nImage 69: pic\\n\\nPersonal Trusted UserCreate template\\nTemplates let you quickly answer FAQs or store snippets for re-use.\\n\\nSubmit PreviewDismiss\\n\\n. Furthermore, understanding Python makes it very easy to learn another BASIC language like Ruby. [...] Image 98: m_x_95bc455489 profile image\\n\\nMx w\\n\\n Mx w \\n\\nImage 99 Mx w\\n\\nFollow\\n\\n    Joined  Jan 7, 2025 \\n\\n•Jan 23\\n\\n   Copy link\\n\\n    Hide \\n\\n   Report abuse\\n\\nYou should learn Ruby in 2025\\n\\n0 Like Reply\\n\\n[](\\n\\nImage 100: manvendrask profile image\\n\\nManvendra Singh\\n\\n Manvendra Singh \\n\\nImage 101 Manvendra Singh\\n\\nFollow\\n\\n    Joined  Dec 8, 2019 \\n\\n•Jan 16\\n\\n   Copy link\\n\\n    Hide \\n\\n   Report abuse [...] really have to feed in information back then to get it right kind of like what I worked for another company that was a skincare company a high-end one, that had QVC orders every day and they hired me on the basis that I knew HTML VB.net which is my favorite because again you can just make buttons and then double click it and write your little function in the middle of all the buttons so you don't actually have to write the code to make the button and I am really surprised that that is not so\",\n",
       "   'score': 0.79254496,\n",
       "   'raw_content': None},\n",
       "  {'url': 'https://www.bairesdev.com/blog/top-programming-languages/',\n",
       "   'title': 'The 100 Top Programming Languages in 2025',\n",
       "   'content': '### 14. Visual Basic [...] For instance, PHP is great for command-line scripting, creating scripts that only need a PHP parser to run, which is nice for simple processing tasks. Engaging PHP development services can help ensure these tasks are approached efficiently and effectively. PHP can also be used for building desktop applications, though you have to really know your way around it to do so. Mastering the language isn’t a utopia, though, as it has a gentle learning curve, making it an excellent choice for any [...] ### 36. Lisp',\n",
       "   'score': 0.7680558,\n",
       "   'raw_content': None},\n",
       "  {'url': 'https://www.youtube.com/watch?v=ADjyDF0RNY8&pp=0gcJCf8Ao7VqN5tD',\n",
       "   'title': 'How To Pick a Programming Language in 2025... And ...',\n",
       "   'content': \"recommendations. Now, first, just because I say a language is popular does not mean you should flock over and start learning it. They're popular for a reason, but it doesn't mean it's the best language to get into as I'm going to elaborate here. So we have languages like Python, of course, JavaScript, which are just the most popular languages that are the most in demand. Behind that, we have languages like C++, C, Java, Go, PHP, and probably a few others that I'm forgetting. The point is, this [...] job relatively quickly. So with that in mind, I'm going My Recommendations to tell you my kind of unique position here and what I would recommend to you in 2025. Now, first I would suggest have some familiarity with one of those main super popular languages. I would recommend Python or JavaScript just because they're relatively easy to learn and you can build stuff super quickly with them. I then would suggest, especially if you're looking to land a job, learn something that's not as popular. [...] and because the less people are learning them, you can really gain a competitive edge and have that niche expertise that so many developers are lacking. So number one is Go. Now Go is still very popular. It's usually ranked the fifth or sixth most popular programming language. It's growing in popularity. It's relatively easy to learn, similar to something like Python in its syntax, but it's extremely high performance, and it's used for things like distributed systems, back-end servers, cloud\",\n",
       "   'score': 0.7663815,\n",
       "   'raw_content': None},\n",
       "  {'url': 'https://www.tiobe.com/tiobe-index/',\n",
       "   'title': 'TIOBE Index',\n",
       "   'content': '| Programming Language | 2025 | 2020 | 2015 | 2010 | 2005 | 2000 | 1995 | 1990 | 1985 |\\n| --- | --- | --- | --- | --- | --- | --- | --- | --- | --- |\\n| Python | 1 | 3 | 7 | 7 | 7 | 25 | 21 | - | - |\\n| C++ | 2 | 4 | 3 | 4 | 3 | 2 | 1 | 2 | 10 |\\n| Java | 3 | 1 | 2 | 1 | 2 | 3 | - | - | - |\\n| C | 4 | 2 | 1 | 2 | 1 | 1 | 2 | 1 | 1 |\\n| C# | 5 | 5 | 5 | 6 | 10 | 10 | - | - | - |\\n| JavaScript | 6 | 7 | 8 | 9 | 11 | 7 | - | - | - |\\n| Go | 7 | 13 | 56 | 183 | - | - | - | - | - | [...] | Aug 2025 | Aug 2024 | Change | Programming Language | Ratings | Change |\\n| --- | --- | --- | --- | --- | --- |\\n| 1 | 1 |  | Image 15: Python page | Python | 26.14% | +8.10% |\\n| 2 | 2 |  | Image 16: C++ page | C++ | 9.18% | -0.86% |\\n| 3 | 3 |  | Image 17: C page | C | 9.03% | -0.15% |\\n| 4 | 4 |  | Image 18: Java page | Java | 8.59% | -0.58% |\\n| 5 | 5 |  | Image 19: C# page | C# | 5.52% | -0.87% |\\n| 6 | 6 |  | Image 20: JavaScript page | JavaScript | 3.15% | -0.76% |',\n",
       "   'score': 0.6991933,\n",
       "   'raw_content': None}],\n",
       " 'response_time': 0.92,\n",
       " 'request_id': 'd0f224e2-311c-4d13-86f0-f83851c186a1'}"
      ]
     },
     "execution_count": 15,
     "metadata": {},
     "output_type": "execute_result"
    }
   ],
   "source": [
    "response = client.search(\n",
    "    query=\"What are the best programming languages to learn this year?\",\n",
    "    search_depth=\"advanced\",\n",
    "    max_results=7,\n",
    "    include_images=True,\n",
    "    include_answer=True,\n",
    "    include_raw_content=False\n",
    ")\n",
    "\n",
    "response"
   ]
  },
  {
   "cell_type": "code",
   "execution_count": 12,
   "metadata": {},
   "outputs": [
    {
     "name": "stdout",
     "output_type": "stream",
     "text": [
      "Real Madrid won the 2024 UEFA Champions League final against Borussia Dortmund with a 2-0 victory. The decisive goals were scored by Dani Carvajal and Vinícius Júnior.\n"
     ]
    }
   ],
   "source": [
    "answer = client.qna_search(\n",
    "    query=\"Who won the UEFA Champions League in 2024?\",\n",
    ")\n",
    "\n",
    "print(answer)"
   ]
  },
  {
   "cell_type": "code",
   "execution_count": 16,
   "metadata": {},
   "outputs": [
    {
     "data": {
      "text/plain": [
       "[{'url': 'https://www.analyticsvidhya.com/blog/2024/10/agentic-ai-reflection-pattern/',\n",
       "  'title': 'What is Agentic AI Reflection Pattern?',\n",
       "  'content': 'The Agentic AI Reflection Pattern is a method where the model generates, critiques, and refines its outputs through an iterative self-assessment process.\\n This pattern enhances the accuracy and quality of AI-generated content by mimicking human-like feedback and revision loops.\\n It is especially effective for large language models (LLMs), allowing them to catch mistakes, clarify ambiguities, and improve over multiple iterations. [...] The Reflection Pattern is an agentic AI design pattern applied to AI models, where the model generates an initial response to a prompt, evaluates this output for quality and correctness, and then refines the content based on its own feedback. The model essentially plays the dual roles of creator and critic. The process involves several iterations where the AI alternates between these two roles until the output meets a certain level of quality or a predefined stopping criterion. [...] Ans. The Reflection Pattern is an iterative design process in AI where the model generates content, critiques its output, and refines the response based on its self-assessment. This pattern is especially useful for improving the quality of text generated by large language models (LLMs) through continuous feedback loops.\\n\\nQ2. How does the Reflection Pattern improve AI outputs?',\n",
       "  'score': 0.7811474,\n",
       "  'raw_content': None},\n",
       " {'url': 'https://weaviate.io/blog/what-are-agentic-workflows',\n",
       "  'title': 'What Are Agentic Workflows? Patterns, Use Cases, Examples, and ...',\n",
       "  'content': \"Reflection is a powerful agentic design pattern that is relatively simple to implement and can lead to significant gains in improvement for agentic workflows. The reflection pattern is a self-feedback mechanism in which an agent iteratively evaluates the quality of its outputs or decisions before finalizing a response or taking further action. These critiques are then used to refine the agent's approach, correct errors, and improve future responses or decisions. [...] Self-correcting and continuous learning. The reflection pattern allows agentic workflow to evaluate their own actions, refine strategies, and improve outcomes over time. Utilizing both short- and long-term memory, they learn from past experiences to become more effective and personalized with each iteration.\",\n",
       "  'score': 0.7576693,\n",
       "  'raw_content': None},\n",
       " {'url': 'https://medium.com/aimonks/reflection-agents-with-langgraph-agentic-llm-based-applications-87e43c27adc7',\n",
       "  'title': 'Reflection Agents With LangGraph | Agentic LLM Based Applications',\n",
       "  'content': 'In this first article, we’ll go over what is reflection in LLM based applications. Types of reflection agents and their implementations. When to use reflection agents and much more.\\n\\n# What Is Reflection?\\n\\nReflection is a prompting strategy used to improve the quality and success rate of agents and similar AI systems. It involves prompting an LLM to reflect on and critique its past actions, sometimes incorporating additional external information such as tools and observations. [...] So basically to achieve reflection in LLM based systems, we have multiple LLM agents. Some that generate content(Generative part of LLMs). Others that reflect on generated content and give constructive criticism that can then be used to optimize the next generation in the cycle to make the content better. Let’s take a look into the types of these reflection types we can work with. There may be many more approaches considering the type of publishing this article. Keep this in mind. [...] So, let’s move ahead and create these two agents and have the reflect agent critique the initial response manually, then we’ll move on to doing the same with LangGraph in a more sophisticated and automated manner. Open the `basic_02.py`file and have the following code inside of it.\\n\\n`basic_02.py`\\n\\n## Generate Agent\\n\\nHere we have the generating agent conduct research on climate change.\\n\\n## Reflect Agent',\n",
       "  'score': 0.7471924,\n",
       "  'raw_content': None},\n",
       " {'url': 'https://www.analyticsvidhya.com/blog/2025/03/enhancing-code-quality-with-langgraph-reflection/',\n",
       "  'title': 'Enhancing Code Quality with LangGraph Reflection - Analytics Vidhya',\n",
       "  'content': '1.   Main Agent: Generates initial code based on the user’s request.\\n2.   Critique Agent: Validates the generated code using Pyright.\\n3.   Reflection Process: If errors are detected, the main agent is called again to refine the code until no issues remain.\\n\\nImage 3: LangGraph Reflection framework architecture\\n\\n_Also Read: Agentic Frameworks for Generative AI Applications_\\n\\nHow to Implement the LangGraph Reflection Framework\\n--------------------------------------------------- [...] A. The reflection mechanism follows this workflow:\\n\\n– Main Agent: Generates the initial output.\\n\\n– Critique Agent: Analyzes the generated output for errors or improvements.\\n\\n– Improvement Loop:If issues are found, the main agent is re-invoked with feedback for refinement. This loop continues until the output meets quality standards.\\n\\nQ3. What libraries are required to use LangGraph Reflection?\\n------------------------------------------------------------ [...] The LangGraph Reflection Framework is a type of agentic framework which offers a powerful way to improve language model outputs through an iterative critique process using Generative AI. This article breaks down how to implement a reflection agent that validates Python code using Pyright and improves its quality using GPT-4o mini.AI agents play a crucial role in this framework, automating decision-making processes by combining reasoning, reflection, and feedback mechanisms to enhance model',\n",
       "  'score': 0.7185356,\n",
       "  'raw_content': None},\n",
       " {'url': 'https://medium.com/@vishwajeetv2003/the-reflection-pattern-how-self-critique-makes-ai-smarter-035df3b36aae',\n",
       "  'title': 'The Reflection Pattern: How Self-Critique Makes AI Smarter',\n",
       "  'content': 'Vishal Rajput\\n\\n## Leave Agentic AI Frameworks And Build Agents From Scratch\\n\\n### I’ll be honest with you, I hate most agent-based AI workflows; they are simply unusable in the real world at scale. Despite the…\\n\\n5d ago\\n\\n662\\n\\n25\\n\\nIn\\n\\nArtificial Intelligence in Plain English\\n\\nby\\n\\nPiyush Agnihotri\\n\\n## Building Agentic RAG with LangGraph: Mastering Adaptive RAG for Production\\n\\n### Build intelligent RAG systems that know when to retrieve documents, search the web, or generate responses directly [...] Enter the Reflection Pattern, a powerful approach that enables AI systems to evaluate and improve their own outputs through an iterative process of self-critique. This pattern represents one of the four key design patterns for agentic AI workflows, as highlighted by AI pioneer Andrew Ng, and it’s transforming how we build reliable AI systems.',\n",
       "  'score': 0.6959795,\n",
       "  'raw_content': None}]"
      ]
     },
     "execution_count": 16,
     "metadata": {},
     "output_type": "execute_result"
    }
   ],
   "source": [
    "from langchain.adapters.openai import convert_openai_messages\n",
    "from langchain_openai import ChatOpenAI\n",
    "\n",
    "query = \"What is the 'Reflection & Critique' pattern used in agentic applications and LangGraph?\"\n",
    "\n",
    "response = client.search(query, max_results=5, search_depth=\"advanced\")[\"results\"]\n",
    "response"
   ]
  },
  {
   "cell_type": "code",
   "execution_count": 18,
   "metadata": {},
   "outputs": [
    {
     "name": "stdout",
     "output_type": "stream",
     "text": [
      "[SystemMessage(content='\\n        You are an AI critical thinker research assistant.\\n        Your sole purpose is to write well written, objective and structured reports on given text.', additional_kwargs={}, response_metadata={}), HumanMessage(content='Information: \\'\\'\\'[{\\'url\\': \\'https://www.analyticsvidhya.com/blog/2024/10/agentic-ai-reflection-pattern/\\', \\'title\\': \\'What is Agentic AI Reflection Pattern?\\', \\'content\\': \\'The Agentic AI Reflection Pattern is a method where the model generates, critiques, and refines its outputs through an iterative self-assessment process.\\\\n This pattern enhances the accuracy and quality of AI-generated content by mimicking human-like feedback and revision loops.\\\\n It is especially effective for large language models (LLMs), allowing them to catch mistakes, clarify ambiguities, and improve over multiple iterations. [...] The Reflection Pattern is an agentic AI design pattern applied to AI models, where the model generates an initial response to a prompt, evaluates this output for quality and correctness, and then refines the content based on its own feedback. The model essentially plays the dual roles of creator and critic. The process involves several iterations where the AI alternates between these two roles until the output meets a certain level of quality or a predefined stopping criterion. [...] Ans. The Reflection Pattern is an iterative design process in AI where the model generates content, critiques its output, and refines the response based on its self-assessment. This pattern is especially useful for improving the quality of text generated by large language models (LLMs) through continuous feedback loops.\\\\n\\\\nQ2. How does the Reflection Pattern improve AI outputs?\\', \\'score\\': 0.7811474, \\'raw_content\\': None}, {\\'url\\': \\'https://weaviate.io/blog/what-are-agentic-workflows\\', \\'title\\': \\'What Are Agentic Workflows? Patterns, Use Cases, Examples, and ...\\', \\'content\\': \"Reflection is a powerful agentic design pattern that is relatively simple to implement and can lead to significant gains in improvement for agentic workflows. The reflection pattern is a self-feedback mechanism in which an agent iteratively evaluates the quality of its outputs or decisions before finalizing a response or taking further action. These critiques are then used to refine the agent\\'s approach, correct errors, and improve future responses or decisions. [...] Self-correcting and continuous learning. The reflection pattern allows agentic workflow to evaluate their own actions, refine strategies, and improve outcomes over time. Utilizing both short- and long-term memory, they learn from past experiences to become more effective and personalized with each iteration.\", \\'score\\': 0.7576693, \\'raw_content\\': None}, {\\'url\\': \\'https://medium.com/aimonks/reflection-agents-with-langgraph-agentic-llm-based-applications-87e43c27adc7\\', \\'title\\': \\'Reflection Agents With LangGraph | Agentic LLM Based Applications\\', \\'content\\': \\'In this first article, we’ll go over what is reflection in LLM based applications. Types of reflection agents and their implementations. When to use reflection agents and much more.\\\\n\\\\n# What Is Reflection?\\\\n\\\\nReflection is a prompting strategy used to improve the quality and success rate of agents and similar AI systems. It involves prompting an LLM to reflect on and critique its past actions, sometimes incorporating additional external information such as tools and observations. [...] So basically to achieve reflection in LLM based systems, we have multiple LLM agents. Some that generate content(Generative part of LLMs). Others that reflect on generated content and give constructive criticism that can then be used to optimize the next generation in the cycle to make the content better. Let’s take a look into the types of these reflection types we can work with. There may be many more approaches considering the type of publishing this article. Keep this in mind. [...] So, let’s move ahead and create these two agents and have the reflect agent critique the initial response manually, then we’ll move on to doing the same with LangGraph in a more sophisticated and automated manner. Open the `basic_02.py`file and have the following code inside of it.\\\\n\\\\n`basic_02.py`\\\\n\\\\n## Generate Agent\\\\n\\\\nHere we have the generating agent conduct research on climate change.\\\\n\\\\n## Reflect Agent\\', \\'score\\': 0.7471924, \\'raw_content\\': None}, {\\'url\\': \\'https://www.analyticsvidhya.com/blog/2025/03/enhancing-code-quality-with-langgraph-reflection/\\', \\'title\\': \\'Enhancing Code Quality with LangGraph Reflection - Analytics Vidhya\\', \\'content\\': \\'1.   Main Agent: Generates initial code based on the user’s request.\\\\n2.   Critique Agent: Validates the generated code using Pyright.\\\\n3.   Reflection Process: If errors are detected, the main agent is called again to refine the code until no issues remain.\\\\n\\\\nImage 3: LangGraph Reflection framework architecture\\\\n\\\\n_Also Read: Agentic Frameworks for Generative AI Applications_\\\\n\\\\nHow to Implement the LangGraph Reflection Framework\\\\n--------------------------------------------------- [...] A. The reflection mechanism follows this workflow:\\\\n\\\\n– Main Agent: Generates the initial output.\\\\n\\\\n– Critique Agent: Analyzes the generated output for errors or improvements.\\\\n\\\\n– Improvement Loop:If issues are found, the main agent is re-invoked with feedback for refinement. This loop continues until the output meets quality standards.\\\\n\\\\nQ3. What libraries are required to use LangGraph Reflection?\\\\n------------------------------------------------------------ [...] The LangGraph Reflection Framework is a type of agentic framework which offers a powerful way to improve language model outputs through an iterative critique process using Generative AI. This article breaks down how to implement a reflection agent that validates Python code using Pyright and improves its quality using GPT-4o mini.AI agents play a crucial role in this framework, automating decision-making processes by combining reasoning, reflection, and feedback mechanisms to enhance model\\', \\'score\\': 0.7185356, \\'raw_content\\': None}, {\\'url\\': \\'https://medium.com/@vishwajeetv2003/the-reflection-pattern-how-self-critique-makes-ai-smarter-035df3b36aae\\', \\'title\\': \\'The Reflection Pattern: How Self-Critique Makes AI Smarter\\', \\'content\\': \\'Vishal Rajput\\\\n\\\\n## Leave Agentic AI Frameworks And Build Agents From Scratch\\\\n\\\\n### I’ll be honest with you, I hate most agent-based AI workflows; they are simply unusable in the real world at scale. Despite the…\\\\n\\\\n5d ago\\\\n\\\\n662\\\\n\\\\n25\\\\n\\\\nIn\\\\n\\\\nArtificial Intelligence in Plain English\\\\n\\\\nby\\\\n\\\\nPiyush Agnihotri\\\\n\\\\n## Building Agentic RAG with LangGraph: Mastering Adaptive RAG for Production\\\\n\\\\n### Build intelligent RAG systems that know when to retrieve documents, search the web, or generate responses directly [...] Enter the Reflection Pattern, a powerful approach that enables AI systems to evaluate and improve their own outputs through an iterative process of self-critique. This pattern represents one of the four key design patterns for agentic AI workflows, as highlighted by AI pioneer Andrew Ng, and it’s transforming how we build reliable AI systems.\\', \\'score\\': 0.6959795, \\'raw_content\\': None}]\\'\\'\\'\\n        Using the above information, answer the following query: \\'\\'\\'What is the \\'Reflection & Critique\\' pattern used in agentic applications and LangGraph?\\'\\'\\' in a detailed report', additional_kwargs={}, response_metadata={})]\n"
     ]
    }
   ],
   "source": [
    "prompt = [\n",
    "    {\n",
    "        'role': 'system',\n",
    "        'content': f\"\"\"\n",
    "        You are an AI critical thinker research assistant.\n",
    "        Your sole purpose is to write well written, objective and structured reports on given text.\"\"\"\n",
    "    },\n",
    "    {\n",
    "        'role': 'user',\n",
    "        'content': f\"\"\"Information: '''{response}'''\n",
    "        Using the above information, answer the following query: '''{query}''' in a detailed report\"\"\"\n",
    "    }\n",
    "]\n",
    "\n",
    "\n",
    "lc_messages = convert_openai_messages(prompt)\n",
    "print(lc_messages)"
   ]
  },
  {
   "cell_type": "code",
   "execution_count": 19,
   "metadata": {},
   "outputs": [
    {
     "name": "stdout",
     "output_type": "stream",
     "text": [
      "# Report on the 'Reflection & Critique' Pattern in Agentic Applications and LangGraph\n",
      "\n",
      "## Introduction\n",
      "The 'Reflection & Critique' pattern is a fundamental concept in the development of agentic AI applications, particularly in enhancing the capabilities of large language models (LLMs) through iterative self-assessment and refinement. This report explores the underlying principles of the reflection and critique pattern, its processes, applications, and its implementation in LangGraph.\n",
      "\n",
      "## Definition of the Reflection & Critique Pattern\n",
      "The Reflection & Critique pattern involves an agent (usually an AI system or model) generating initial outputs based on specific prompts, followed by a self-evaluation or critique of these outputs. This iterative process allows the agent to improve its responses over time, enhancing the overall quality and accuracy of the generated content. This dual-role mechanism—where the AI alternates between being a creator and a critic—creates a feedback loop that fosters continuous learning and self-correction.\n",
      "\n",
      "## Key Components of the Pattern\n",
      "1. **Initial Output Generation**: The process begins with the agent generating an output in response to a prompt or query. This can involve writing text, programming code, or other forms of content creation.\n",
      "\n",
      "2. **Self-Critique**: Once the content is generated, the agent evaluates its own output for quality, correctness, and coherence. This evaluation can include identifying weaknesses, errors, or areas that require clarification.\n",
      "\n",
      "3. **Refinement**: Based on the self-assessment, the agent refines the original output, addressing any identified issues. This step may involve rephrasing, adding details, or restructuring the content for better clarity.\n",
      "\n",
      "4. **Iteration**: The process is repeated multiple times, with the agent continuously generating, critiquing, and refining its outputs until it meets specific quality standards or reaches a predefined stopping criterion.\n",
      "\n",
      "## Benefits of the Reflection & Critique Pattern\n",
      "- **Improved Output Quality**: By systematically evaluating and refining its outputs, the agent can significantly enhance the accuracy and relevance of its responses. This leads to higher-quality content generation in various applications.\n",
      "- **Error Reduction**: The self-critique aspect helps in identifying and correcting mistakes early in the process, thus reducing the likelihood of erroneous outputs.\n",
      "- **Personalization and Adaptability**: The reflection process allows the agent to learn from past experiences, making it more effective and tailored to user interactions over time.\n",
      "- **Increased Human-Like Feedback Mechanisms**: The iterative feedback loops mimic human revision processes, making AI generated content more aligned with human expectations and standards.\n",
      "\n",
      "## Application in LangGraph\n",
      "LangGraph is a platform that utilizes the Reflection & Critique pattern as part of its architecture for enhancing various AI applications. Key features of LangGraph's implementation include:\n",
      "\n",
      "1. **Generative and Critique Agents**: LangGraph employs multiple agents—one for generating content (the generative agent) and another for providing critiques (the critique agent). This structure helps to create a comprehensive assessment cycle for content optimization.\n",
      "\n",
      "2. **Feedback Loop Integration**: The critique agent analyzes outputs and identifies potential improvements, which are fed back to the generative agent. This cyclical process ensures continual enhancement of the outputs.\n",
      "\n",
      "3. **Error Validation**: Specifically, in code generation applications, LangGraph can utilize tools like Pyright to validate code generated by the main agent. This validation process is crucial for maintaining quality in programming tasks.\n",
      "\n",
      "4. **Iterative Improvement Workflow**: As outlined in discussions on how LangGraph implements the reflection framework, the iterative improvement loop keeps running until the output meets predefined standards, ensuring consistently high-quality results.\n",
      "\n",
      "## Conclusion\n",
      "The Reflection & Critique pattern serves as a cornerstone in the development of agentic AI applications, particularly through platforms like LangGraph. By integrating an iterative self-feedback mechanism, these systems can significantly enhance their output quality, reduce errors, and adapt over time, ultimately resulting in more reliable and human-like performance. As AI technology continues to evolve, the implementation of such reflective design patterns will likely become increasingly vital for advancing the capabilities of AI systems in practical applications.\n"
     ]
    }
   ],
   "source": [
    "response = ChatOpenAI(model_name=\"gpt-4o-mini\").invoke(lc_messages)\n",
    "print(response.content)"
   ]
  },
  {
   "cell_type": "code",
   "execution_count": 20,
   "metadata": {},
   "outputs": [
    {
     "name": "stderr",
     "output_type": "stream",
     "text": [
      "/var/folders/rg/_gpzq28d4m5bz9kt_j3vlkk00000gn/T/ipykernel_62826/3665934959.py:2: LangChainDeprecationWarning: The class `TavilySearchResults` was deprecated in LangChain 0.3.25 and will be removed in 1.0. An updated version of the class exists in the :class:`~langchain-tavily package and should be used instead. To use it run `pip install -U :class:`~langchain-tavily` and import as `from :class:`~langchain_tavily import TavilySearch``.\n",
      "  tool = TavilySearchResults(max_results=3)\n"
     ]
    }
   ],
   "source": [
    "from langchain_community.tools.tavily_search import TavilySearchResults\n",
    "tool = TavilySearchResults(max_results=3)\n",
    "\n",
    "tools = [tool]"
   ]
  },
  {
   "cell_type": "code",
   "execution_count": 21,
   "metadata": {},
   "outputs": [
    {
     "data": {
      "text/plain": [
       "[{'title': 'OpenAI o1 - Wikipedia',\n",
       "  'url': 'https://en.wikipedia.org/wiki/OpenAI_o1',\n",
       "  'content': 'OpenAI o1 is a reflective \"Reflection (artificial intelligence)\")generative pre-trained transformer (GPT). A preview of o1 was released by OpenAI on September 12, 2024. o1 spends time \"thinking\" before it answers, making it better at complex reasoning tasks, science and programming than GPT-4o.( The full version was released to ChatGPT users on December 5, 2024.(\\n\\nHistory\\n-------\\n\\n[edit]\\n\\n### Background\\n\\n[edit] [...] Limitations\\n-----------\\n\\n[edit]\\n\\no1 usually requires more computing time and power than other GPT models by OpenAI, because it generates long chains of thought before making the final response.(\\n\\nAccording to OpenAI, o1 may \"fake alignment\", that is, generate a response that is contrary to accuracy and its own chain of thought, in about 0.38% of cases.( [...] o1-preview\\'s API is several times more expensive than GPT-4o.( As of January 2025, API usage for the full o1 model is limited to developers on usage tier 5.(\\n\\nOpenAI noted that o1 is the first of a series of \"reasoning\" models. OpenAI shared in December 2024 benchmark results for its successor, o3 (the name o2 was skipped to avoid trademark conflict with the mobile carrier brand named O2 \"O2 (brand)\")).(',\n",
       "  'score': 0.86632514},\n",
       " {'title': \"ChatGPT o1: What's cool, what's hype, and what happens next\",\n",
       "  'url': 'https://www.sectionai.com/blog/what-is-chatgpt-o1',\n",
       "  'content': \"Unlike the clear progression from GPT-3.5 to GPT-4 to GPT-4o, where each new model consistently outperformed its predecessor across tasks, o1 is a departure from this trend. A task that worked well with GPT-4o might not yield the best result with o1. [...] o1 is OpenAI's newest family of models, representing a significant leap forward in AI capabilities â\\x80\\x93 it can reason. The model has two variants: o1-mini and o1-preview. Hereâ\\x80\\x99s what sets these models apart from their predecessors:\\n\\nCurrent Limitations\\n\\nOpenAIâ\\x80\\x99s o1 also has some important limitations to be aware of:\\n\\nThese limitations may be temporary, as OpenAI often introduces new features over time. [...] Overall, the release of o1 represents a break from OpenAIâ\\x80\\x99s previous consumer (non-API) releases â\\x80\\x93 in the past, the most recently released model has by and large been the top-performing model for almost every task. Now, o1 is the premiere model for some tasks but GPT-4o remains the best model for others, requiring consumers to make the distinction in which model is right for their task.\\n\\n## Birdseye view: Whatâ\\x80\\x99s groundbreaking vs. just hype\",\n",
       "  'score': 0.8098936},\n",
       " {'title': 'OpenAI o1 explained: Everything you need to know - TechTarget',\n",
       "  'url': 'https://www.techtarget.com/whatis/feature/OpenAI-o1-explained-Everything-you-need-to-know',\n",
       "  'content': \"The o1 models were initially intended to be preview models, designed to provide users -- as well as OpenAI -- with a different type of LLM experience than the GPT-4o model. As is the case with all OpenAI's LLMs, o1 is a transformer model. It can be used to summarize content, generate new content, answer questions and write application code.\\n\\nThis article is part of\\n\\n### What is enterprise AI? A complete guide for businesses [...] The basic strategy taken by OpenAI for reasoning is chain-of-thought prompting, where a model reasons step by step through a problem in an iterative approach. The development of o1 involved advanced training techniques, such as reinforcement learning.\\n\\nThe initial launch in September 2024 included two models:\\n\\nIn December 2024, OpenAI graduated the o1-preview to become just o1 and introduced the o1 pro mode as part of the $200 ChatGPT Pro service tier.\\n\\n## The o1 model family [...] Some queries can take more time than ChatGPT users have grown to expect. To help manage expectations, the o1 pro mode also provides a progress bar and a notification system for long-running queries to keep users updated.\\n\\nBut all that power comes at a cost. The o1 pro mode is exclusively available through OpenAI's high-end ChatGPT Pro subscription, which costs $200 per month.\\n\\n## What can OpenAI o1 do?\",\n",
       "  'score': 0.7471924}]"
      ]
     },
     "execution_count": 21,
     "metadata": {},
     "output_type": "execute_result"
    }
   ],
   "source": [
    "response = tool.invoke(\"What is GPT o1\")\n",
    "response"
   ]
  },
  {
   "cell_type": "code",
   "execution_count": null,
   "metadata": {},
   "outputs": [],
   "source": [
    "from langgraph.graph import StateGraph\n",
    "from typing import Annotated\n",
    "from typing_extensions import TypedDict\n",
    "from langgraph.graph.message import add_messages\n",
    "from langchain_openai import ChatOpenAI\n",
    "from dotenv import load_dotenv, find_dotenv\n",
    "load_dotenv(find_dotenv(), override=True)\n",
    "\n",
    "from langgraph.prebuilt import ToolNode, tools_condition\n",
    "\n",
    "\n",
    "class State(TypedDict):\n",
    "    messages: Annotated[list, add_messages]\n",
    "\n",
    "\n",
    "graph_builder = StateGraph(State)\n",
    "\n",
    "llm = ChatOpenAI(model_name=\"gpt-4o-mini\", temperature=0.5)\n",
    "llm_with_tools = llm.bind_tools(tools)\n",
    "\n",
    "def chatbot(state: State):\n",
    "    return {\"messages\": [llm_with_tools.invoke(state[\"messages\"])]}\n",
    "\n",
    "graph_builder.add_node(\"chatbot\", chatbot)\n",
    "tool_node = ToolNode(tools=tools)\n",
    "\n",
    "graph_builder.add_node(\"tools\", tool_node)\n",
    "\n",
    "graph_builder.add_conditional_edges(\n",
    "    \"chatbot\",\n",
    "    tools_condition\n",
    ")\n",
    "\n",
    "graph_builder.add_edge(\"tools\", \"chatbot\")\n",
    "\n",
    "graph_builder.set_entry_point(\"chatbot\")\n",
    "# graph_builder.set_finish_point(\"chatbot\")\n",
    "\n",
    "graph = graph_builder.compile()\n",
    "\n",
    "from IPython"
   ]
  },
  {
   "cell_type": "code",
   "execution_count": 27,
   "metadata": {},
   "outputs": [
    {
     "data": {
      "image/png": "[encoded data removed]",
      "text/plain": [
       "<IPython.core.display.Image object>"
      ]
     },
     "metadata": {},
     "output_type": "display_data"
    }
   ],
   "source": [
    "from IPython.display import Image, display\n",
    "\n",
    "display(Image(graph.get_graph().draw_mermaid_png()))"
   ]
  },
  {
   "cell_type": "code",
   "execution_count": 28,
   "metadata": {},
   "outputs": [
    {
     "name": "stdout",
     "output_type": "stream",
     "text": [
      "Assistant: \n",
      "--------------------------------------------------\n",
      "Assistant: [{\"title\": \"Pan Zhanle BLAZES to 100m freestyle gold with world-record swim\", \"url\": \"https://www.youtube.com/watch?v=N60Le7TFgMI\", \"content\": \"# Pan Zhanle BLAZES to 100m freestyle gold with world-record swim | Paris Olympics | NBC Sports\\n\\nNBC Sports\\n9519 likes\\n847965 views\\n1 Aug 2024\\nPan Zhanle scorched the field on his way to breaking his own world record in the men's 100m freestyle and easily winning gold at the Paris Olympics. #NBCSports #Olympics #Paris2024 \\n» Subscribe to NBC Sports: \\n» Live Olympic coverage on NBCOlympics.com:\", \"score\": 0.86441374}, {\"title\": \"Swimming at the 2024 Summer Olympics – Men's 100- ...\", \"url\": \"https://en.wikipedia.org/wiki/Swimming_at_the_2024_Summer_Olympics_%E2%80%93_Men%27s_100-metre_freestyle\", \"content\": \"19. ^ Wade, Stephen (31 July 2024). \\\"Pan Zhanle of China breaks own world record to win Olympic gold medal in men's 100-meter freestyle\\\". Associated Press. Archived from the original on 5 January 2025. Retrieved 15 March 2025.\\n20. ^ Ransom, Ian (31 July 2024). \\\"Swimming-China's Pan smashes own 100m freestyle world record for gold\\\". Reuters. Retrieved 15 March 2025. [...] The men's 100 metre freestyle event at the 2024 Summer Olympics was held on 30 and 31 July 2024 at Paris La Défense Arena, which was converted to a swimming pool for the swimming events.\\n\\nRomanian David Popovici, China's Pan Zhanle, Australia's Kyle Chalmers, and France's Maxime Grousset were the favourites for the event, and they all progressed through to the final. In the heats, national records for Nepal and Vanuatu were broken. [...] | Rank | Heat | Lane | Swimmer | Nation | Time | Notes |\\n| 1 | 8 | 4 | Jack Alexy | United States | 47.57 | Q |\\n| 2 | 8 | 5 | Maxime Grousset | France | 47.70 | Q |\\n| 3 | 9 | 4 | David Popovici | Romania | 47.92 | Q |\\n| 4 | 9 | 3 | Nándor Németh | Hungary | 47.93 | Q |\\n| 5 | 8 | 6 | Jordan Crooks | Cayman Islands | 48.01 | Q |\\n| 6 | 10 | 5 | Kyle Chalmers | Australia | 48.07 | Q |\\n| 7 | 8 | 3 | Alessandro Miressi | Italy | 48.24 | Q |\\n| 8 | 9 | 5 | Chris Guiliano | United States | 48.25 | Q |\", \"score\": 0.78944516}, {\"title\": \"Paris 2024 Swimming - Olympic Results by Discipline\", \"url\": \"https://www.olympics.com/en/olympic-games/paris-2024/results/swimming\", \"content\": \"### Men's 100m Final | Athletics | Olympic Games Paris 2024\\n\\n### Novak Djokovic (SRB) v Carlos Alcaraz (ESP) - Men's Singles Gold Medal Match | Tennis | Olympic Games Paris 2024\\n\\n### USA-FRA - Men's Gold Medal Game | Basketball | Olympic Games Paris 2024\", \"score\": 0.77446437}]\n",
      "--------------------------------------------------\n",
      "Assistant: The gold medal in the men's 100m freestyle swimming event at the Paris Olympics 2024 was won by Pan Zhanle from China. He not only secured the gold but also broke his own world record during the race.\n",
      "--------------------------------------------------\n",
      "Assistant: \n",
      "--------------------------------------------------\n",
      "Assistant: [{\"title\": \"Gymnastics news - Today's latest updates\", \"url\": \"https://www.cbsnews.com/tag/gymnastics/\", \"content\": \"using social media to grow interest in men's gymnastics to inspire the next generation.  Aug 2, 2024Image 18:  #### Biles wins 2nd gold medal at Paris Olympics Simone Biles won yet another gold medal for Team USA women's gymnastics at the Paris Olympics on Thursday. Biles' victory marks the ninth gold medal for the U.S. \\\"CBS Saturday Morning\\\" co-host and CBS News and sports correspondent Dana Jacobson has the latest from Paris.  Aug 1, 2024  02:37Image 19: Artistic Gymnastics - Olympic Games [...] Jul 31, 2024Image 23:  #### Simone Biles wins historic 8th gold medal Simone Biles made a triumphant comeback Tuesday at the Paris Olympics after dropping out of the 2020 Games, competing on the beam, uneven bars, vault and floor to bring the women's gymnastics team to gold. It's Biles' eighth Olympic medal, making her the most decorated American gymnast. CBS Saturday Morning co-host and CBS News and sports correspondent Dana Jacobson joins from Paris with more.  Jul 30, 2024  05:26Image 24: [...] contention in that apparatus. \\\"CBS Saturday Morning\\\" co-host and CBS News and sports correspondent Dana Jacobson is in Paris with a recap.  Aug 5, 2024  05:10Image 13: Paris Olympics Artistic Gymnastics  #### Simone Biles wins silver on floor, Jordan Chiles takes bronze In the last medal event for women's artistic gymnastics, Brazil's Rebeca Andrade narrowly edged American Simone Biles for the gold.  Aug 5, 2024Image 14: Paris Olympics Artistic Gymnastics  #### Suni Lee wins bronze in the\", \"score\": 0.79484755}, {\"title\": \"Gymnastics Now - Gymnastics. News. Now.\", \"url\": \"https://gymnastics-now.com/\", \"content\": \"June 6, 2025 \\n\\n 5 minute read\\n\\nNews\\n\\nNews\\n\\n### USA Gymnastics President & CEO Li Li Leung to step down at end of 2025\\n\\nJune 5, 2025 \\n\\n 2 minute read\\n\\nNews\\n\\nNews\\n\\n### The top transfers of the NCAA women’s gymnastics offseason and where they’re going\\n\\nJune 3, 2025 \\n\\n 7 minute read\\n\\n\\n   \\n   \\n\\n Special Offer \\n\\nUnlimited access to all the\\n\\n gymnastics content we offer for\\n\\n only $2.99/month.\\n\\nTry it for 7 days free!\\n\\n × \\n\\nSearch for: Search Button\\n\\n × \\n\\n Login to Gymnastics Now \\n\\nAccount [...] ### One year later: Reliving the 2024 U.S. Olympic Gymnastics Trials through pictures\\n\\nJune 30, 2025 by Gymnastics Now\\n\\n< 1 minute read\\n\\nNews\\n\\nNews\\n\\n### Frederick Richard is spearheading a gymnastics revolution. The next stop? Uganda.\\n\\nJune 30, 2025 \\n\\n 3 minute read\\n\\nNews\\n\\nNews\\n\\n### Class of 2027 NCAA gymnastics recruits to look out for this elite season\\n\\nJune 19, 2025 \\n\\n 5 minute read\\n\\nNews\\n\\nNews\\n\\n### 2025 European Rhythmic Gymnastics Championships finals: Qualifiers, schedule, how to watch [...] ### USA Gymnastics President & CEO Li Li Leung to step down at end of 2025\\n\\n June 5, 2025  2 minute read\\n\\n### Subscribe to Gymnastics Now!\\n\\nSubscribe\\n\\nCollege Gymnastics\\n------------------\\n\\nNews\\n\\nNews\\n\\n### Final 2025 NCAA Men’s Gymnastics Rankings\\n\\n April 21, 2025 < 1 minute read\\n\\nNews\\n\\nNews\\n\\n### Final 2025 NCAA Women’s Gymnastics Rankings\\n\\n April 21, 2025 < 1 minute read\\n\\nNews\\n\\nNews\\n\\n### Recap: Michigan prevents Stanford six-peat at 2025 NCAA Men’s Gymnastics Championships\", \"score\": 0.7825466}, {\"title\": \"2025 - USA Gymnastics\", \"url\": \"https://usagym.org/news/2025/\", \"content\": \"Keys wins senior crown, Liu claims junior title at 2025 Rhythmic Challenge and Invitational -------------------------------------------------------------------------------------------\\n\\nFebruary 25, 2025\\n\\nReigning U.S. all-around champion Rin Keys won her second consecutive Rhythmic Challenge senior all-around title, while 2024 Junior Pan American Championships junior team gold medalist Alicia Liu took the junior title this past weekend in Lake Placid.\\n\\nImage 129\\n\\nFebruary 24, 2025\", \"score\": 0.7467494}]\n",
      "--------------------------------------------------\n",
      "Assistant: Here are some recent highlights and updates in the world of gymnastics:\n",
      "\n",
      "1. **Simone Biles' Success at the Paris Olympics**:\n",
      "   - Simone Biles won her second gold medal at the Paris Olympics, making her the most decorated American gymnast with a total of eight Olympic medals. She competed on various apparatuses, contributing significantly to the women's gymnastics team's performance. For more details, you can read the full article [here](https://www.cbsnews.com/tag/gymnastics/).\n",
      "\n",
      "2. **Upcoming Changes in USA Gymnastics Leadership**:\n",
      "   - Li Li Leung, the President & CEO of USA Gymnastics, is set to step down at the end of 2025. This news comes as the organization continues to evolve and address challenges in the sport. More information can be found at [Gymnastics Now](https://gymnastics-now.com/).\n",
      "\n",
      "3. **2025 Rhythmic Challenge Results**:\n",
      "   - Rin Keys won the senior all-around title at the 2025 Rhythmic Challenge, while Alicia Liu claimed the junior title. This event highlights the rising talents in rhythmic gymnastics. Details are available on the [USA Gymnastics website](https://usagym.org/news/2025/).\n",
      "\n",
      "These updates showcase the ongoing developments and achievements in gymnastics, particularly surrounding prominent athletes and organizational changes.\n",
      "--------------------------------------------------\n",
      "Goodbye!\n"
     ]
    }
   ],
   "source": [
    "while True:\n",
    "    user_input = input(\"User: \")\n",
    "    if user_input.lower() in [\"quit\", \"exit\", \"bye\", \"q\"]:\n",
    "        print(\"Goodbye!\")\n",
    "        break\n",
    "\n",
    "    for event in graph.stream({\"messages\": (\"user\", user_input)}):\n",
    "        for value in event.values():\n",
    "            print(f\"Assistant: {value['messages'][-1].content}\")\n",
    "        \n",
    "        \n",
    "        print(\"-\" * 50)"
   ]
  },
  {
   "cell_type": "code",
   "execution_count": 30,
   "metadata": {},
   "outputs": [],
   "source": [
    "from langgraph.graph import StateGraph\n",
    "from typing import Annotated\n",
    "from typing_extensions import TypedDict\n",
    "from langgraph.graph.message import add_messages\n",
    "from langchain_openai import ChatOpenAI\n",
    "from dotenv import load_dotenv, find_dotenv\n",
    "load_dotenv(find_dotenv(), override=True)\n",
    "\n",
    "from langgraph.prebuilt import ToolNode, tools_condition\n",
    "\n",
    "\n",
    "class State(TypedDict):\n",
    "    messages: Annotated[list, add_messages]\n",
    "\n",
    "\n",
    "graph_builder = StateGraph(State)\n",
    "\n",
    "llm = ChatOpenAI(model_name=\"gpt-4o-mini\", temperature=0.5)\n",
    "llm_with_tools = llm.bind_tools(tools)\n",
    "\n",
    "def chatbot(state: State):\n",
    "    return {\"messages\": [llm_with_tools.invoke(state[\"messages\"])]}\n",
    "\n",
    "graph_builder.add_node(\"chatbot\", chatbot)\n",
    "tool_node = ToolNode(tools=tools)\n",
    "\n",
    "graph_builder.add_node(\"tools\", tool_node)\n",
    "\n",
    "graph_builder.add_conditional_edges(\n",
    "    \"chatbot\",\n",
    "    tools_condition\n",
    ")\n",
    "\n",
    "graph_builder.add_edge(\"tools\", \"chatbot\")\n",
    "\n",
    "graph_builder.set_entry_point(\"chatbot\")\n",
    "# graph_builder.set_finish_point(\"chatbot\")\n",
    "\n",
    "graph = graph_builder.compile()"
   ]
  },
  {
   "cell_type": "code",
   "execution_count": 50,
   "metadata": {},
   "outputs": [],
   "source": [
    "from langgraph.checkpoint.sqlite import SqliteSaver\n",
    "from langgraph.checkpoint.memory import MemorySaver ### fix\n",
    "\n",
    "memory = SqliteSaver.from_conn_string(':memory:')\n",
    "graph = graph_builder.compile(checkpointer=MemorySaver()) ### fix\n"
   ]
  },
  {
   "cell_type": "code",
   "execution_count": 51,
   "metadata": {},
   "outputs": [
    {
     "data": {
      "image/png": "[encoded data removed]",
      "text/plain": [
       "<IPython.core.display.Image object>"
      ]
     },
     "metadata": {},
     "output_type": "display_data"
    }
   ],
   "source": [
    "from IPython.display import Image, display\n",
    "display(Image(graph.get_graph().draw_mermaid_png()))"
   ]
  },
  {
   "cell_type": "code",
   "execution_count": 52,
   "metadata": {},
   "outputs": [
    {
     "name": "stdout",
     "output_type": "stream",
     "text": [
      "================================\u001b[1m Human Message \u001b[0m=================================\n",
      "\n",
      "Hi! My name is Andrei and you are a math tutor.\n",
      "==================================\u001b[1m Ai Message \u001b[0m==================================\n",
      "\n",
      "Hi Andrei! I'm here to help you with math. What specific topics or questions do you have in mind?\n"
     ]
    }
   ],
   "source": [
    "config = {'configurable': {'thread_id': '1'}}\n",
    "prompt = \"Hi! My name is Andrei and you are a math tutor.\"\n",
    "\n",
    "events = graph.stream(\n",
    "    {\"messages\": [(\"user\", prompt)]}, config, stream_mode=\"values\"\n",
    ")\n",
    "\n",
    "for event in events:\n",
    "    event[\"messages\"][-1].pretty_print()"
   ]
  },
  {
   "cell_type": "code",
   "execution_count": 53,
   "metadata": {},
   "outputs": [
    {
     "name": "stdout",
     "output_type": "stream",
     "text": [
      "================================\u001b[1m Human Message \u001b[0m=================================\n",
      "\n",
      "What is my name and what is your role?\n",
      "==================================\u001b[1m Ai Message \u001b[0m==================================\n",
      "\n",
      "Your name is Andrei, and my role is to be your math tutor. How can I assist you with math today?\n"
     ]
    }
   ],
   "source": [
    "prompt = \"What is my name and what is your role?\"\n",
    "\n",
    "events = graph.stream(\n",
    "    {\"messages\": [(\"user\", prompt)]}, config, stream_mode=\"values\"\n",
    ")\n",
    "\n",
    "for event in events:\n",
    "    event[\"messages\"][-1].pretty_print()"
   ]
  },
  {
   "cell_type": "code",
   "execution_count": 55,
   "metadata": {},
   "outputs": [
    {
     "name": "stdout",
     "output_type": "stream",
     "text": [
      "================================\u001b[1m Human Message \u001b[0m=================================\n",
      "\n",
      "What is my name and what is your role?\n",
      "==================================\u001b[1m Ai Message \u001b[0m==================================\n",
      "\n",
      "I don't have access to personal data about individuals unless it has been shared with me in the course of our conversation. Therefore, I don't know your name. My role is to assist you by providing information and answering questions to the best of my ability. How can I help you today?\n"
     ]
    }
   ],
   "source": [
    "config1 = {'configurable': {'thread_id': '2'}}\n",
    "\n",
    "\n",
    "prompt = \"What is my name and what is your role?\"\n",
    "\n",
    "events = graph.stream(\n",
    "    {\"messages\": [(\"user\", prompt)]}, config1, stream_mode=\"values\"\n",
    ")\n",
    "\n",
    "for event in events:\n",
    "    event[\"messages\"][-1].pretty_print()"
   ]
  },
  {
   "cell_type": "code",
   "execution_count": 57,
   "metadata": {},
   "outputs": [
    {
     "data": {
      "text/plain": [
       "StateSnapshot(values={'messages': [HumanMessage(content='Hi! My name is Andrei and you are a math tutor.', additional_kwargs={}, response_metadata={}, id='4be30907-a789-416f-bc0a-bde5222d8b73'), AIMessage(content=\"Hi Andrei! I'm here to help you with math. What specific topics or questions do you have in mind?\", additional_kwargs={'refusal': None}, response_metadata={'token_usage': {'completion_tokens': 24, 'prompt_tokens': 93, 'total_tokens': 117, 'completion_tokens_details': {'accepted_prediction_tokens': 0, 'audio_tokens': 0, 'reasoning_tokens': 0, 'rejected_prediction_tokens': 0}, 'prompt_tokens_details': {'audio_tokens': 0, 'cached_tokens': 0}}, 'model_name': 'gpt-4o-mini-2024-07-18', 'system_fingerprint': 'fp_560af6e559', 'id': 'chatcmpl-C7IQWr2NGA1X2frlFyvUqEiAHmSoz', 'service_tier': 'default', 'finish_reason': 'stop', 'logprobs': None}, id='run--0e0239e2-bf4d-4e6a-8adb-f5c84f5a4310-0', usage_metadata={'input_tokens': 93, 'output_tokens': 24, 'total_tokens': 117, 'input_token_details': {'audio': 0, 'cache_read': 0}, 'output_token_details': {'audio': 0, 'reasoning': 0}}), HumanMessage(content='What is my name and what is your role?', additional_kwargs={}, response_metadata={}, id='57bba2c7-4767-45de-a7bd-201804953079'), AIMessage(content='Your name is Andrei, and my role is to be your math tutor. How can I assist you with math today?', additional_kwargs={'refusal': None}, response_metadata={'token_usage': {'completion_tokens': 26, 'prompt_tokens': 134, 'total_tokens': 160, 'completion_tokens_details': {'accepted_prediction_tokens': 0, 'audio_tokens': 0, 'reasoning_tokens': 0, 'rejected_prediction_tokens': 0}, 'prompt_tokens_details': {'audio_tokens': 0, 'cached_tokens': 0}}, 'model_name': 'gpt-4o-mini-2024-07-18', 'system_fingerprint': 'fp_560af6e559', 'id': 'chatcmpl-C7IRGU5SQALxFEELW37Y0TRyHRri8', 'service_tier': 'default', 'finish_reason': 'stop', 'logprobs': None}, id='run--7edef7bd-9752-4018-b6de-e5b43cc003b7-0', usage_metadata={'input_tokens': 134, 'output_tokens': 26, 'total_tokens': 160, 'input_token_details': {'audio': 0, 'cache_read': 0}, 'output_token_details': {'audio': 0, 'reasoning': 0}}), HumanMessage(content='What is my name and what is your role?', additional_kwargs={}, response_metadata={}, id='f144a2e1-c715-4e3d-a384-557e7bbfd02f'), AIMessage(content='Your name is Andrei, and my role is to be your math tutor. How can I help you with math today?', additional_kwargs={'refusal': None}, response_metadata={'token_usage': {'completion_tokens': 26, 'prompt_tokens': 177, 'total_tokens': 203, 'completion_tokens_details': {'accepted_prediction_tokens': 0, 'audio_tokens': 0, 'reasoning_tokens': 0, 'rejected_prediction_tokens': 0}, 'prompt_tokens_details': {'audio_tokens': 0, 'cached_tokens': 0}}, 'model_name': 'gpt-4o-mini-2024-07-18', 'system_fingerprint': 'fp_560af6e559', 'id': 'chatcmpl-C7IRxFVA5vuqFEfYENB8ELlFFWErO', 'service_tier': 'default', 'finish_reason': 'stop', 'logprobs': None}, id='run--304a44d3-5e5c-4941-883b-2ca410dc8c40-0', usage_metadata={'input_tokens': 177, 'output_tokens': 26, 'total_tokens': 203, 'input_token_details': {'audio': 0, 'cache_read': 0}, 'output_token_details': {'audio': 0, 'reasoning': 0}})]}, next=(), config={'configurable': {'thread_id': '1', 'checkpoint_ns': '', 'checkpoint_id': '1f07f3b2-a963-6e18-8007-9ae0fc18e5ec'}}, metadata={'source': 'loop', 'step': 7, 'parents': {}}, created_at='2025-08-22T09:34:14.277240+00:00', parent_config={'configurable': {'thread_id': '1', 'checkpoint_ns': '', 'checkpoint_id': '1f07f3b2-9a0d-6c66-8006-8a943afa32e1'}}, tasks=(), interrupts=())"
      ]
     },
     "execution_count": 57,
     "metadata": {},
     "output_type": "execute_result"
    }
   ],
   "source": [
    "snapshot = graph.get_state(config)\n",
    "snapshot"
   ]
  },
  {
   "cell_type": "code",
   "execution_count": 58,
   "metadata": {},
   "outputs": [
    {
     "data": {
      "text/plain": [
       "()"
      ]
     },
     "execution_count": 58,
     "metadata": {},
     "output_type": "execute_result"
    }
   ],
   "source": [
    "snapshot.next"
   ]
  },
  {
   "cell_type": "code",
   "execution_count": null,
   "metadata": {},
   "outputs": [],
   "source": []
  }
 ],
 "metadata": {
  "kernelspec": {
   "display_name": "llms",
   "language": "python",
   "name": "python3"
  },
  "language_info": {
   "codemirror_mode": {
    "name": "ipython",
    "version": 3
   },
   "file_extension": ".py",
   "mimetype": "text/x-python",
   "name": "python",
   "nbconvert_exporter": "python",
   "pygments_lexer": "ipython3",
   "version": "3.11.13"
  }
 },
 "nbformat": 4,
 "nbformat_minor": 2
}
