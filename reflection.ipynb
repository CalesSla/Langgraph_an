{
 "cells": [
  {
   "cell_type": "code",
   "execution_count": 1,
   "metadata": {},
   "outputs": [
    {
     "data": {
      "text/plain": [
       "True"
      ]
     },
     "execution_count": 1,
     "metadata": {},
     "output_type": "execute_result"
    }
   ],
   "source": [
    "from dotenv import load_dotenv, find_dotenv\n",
    "load_dotenv(find_dotenv(), override=True)"
   ]
  },
  {
   "cell_type": "code",
   "execution_count": 2,
   "metadata": {},
   "outputs": [],
   "source": [
    "from langchain_core.messages import AIMessage, BaseMessage, HumanMessage\n",
    "from langchain_core.prompts import ChatPromptTemplate, MessagesPlaceholder\n",
    "from langchain_openai import ChatOpenAI"
   ]
  },
  {
   "cell_type": "code",
   "execution_count": 3,
   "metadata": {},
   "outputs": [],
   "source": [
    "# creating a chat prompt template\n",
    "generation_prompt = ChatPromptTemplate.from_messages(\n",
    "    [\n",
    "        (\n",
    "            'system',\n",
    "            '''You are a Twitter expert assigned to craft outstanding tweets.\n",
    "            Generate the most engaging and impactful tweet possible based on the user's request.\n",
    "            If the user provides feedback, refine and enhance your previous attempts accordingly for maximum engagement.''',\n",
    "        ),\n",
    "        MessagesPlaceholder(variable_name='messages'),\n",
    "    ]\n",
    ")\n",
    "\n",
    "llm = ChatOpenAI(model_name='gpt-4o-mini', temperature=0.7)\n",
    "\n",
    "# using LCEL to create the generate_chain\n",
    "generate_chain  = generation_prompt | llm"
   ]
  },
  {
   "cell_type": "code",
   "execution_count": 4,
   "metadata": {},
   "outputs": [
    {
     "name": "stdout",
     "output_type": "stream",
     "text": [
      "🌍⚽️ Get ready for the #FIFAWorldCup2026! 🇺🇸🇨🇦🇲🇽 Three nations, one epic tournament! Who will lift the trophy? 🏆✨ Let the countdown begin! 🕒🔥 #FootballFever #RoadTo2026 #WorldCupMagic"
     ]
    }
   ],
   "source": [
    "tweet = ''\n",
    "request = HumanMessage(\n",
    "    content='FIFA World Cup 26'\n",
    ")\n",
    "\n",
    "for chunk in generate_chain.stream(\n",
    "    {'messages': [request]}\n",
    "): \n",
    "    print(chunk.content, end='')\n",
    "    tweet += chunk.content"
   ]
  },
  {
   "cell_type": "code",
   "execution_count": 5,
   "metadata": {},
   "outputs": [],
   "source": [
    "reflection_prompt = ChatPromptTemplate.from_messages(\n",
    "    [\n",
    "        (\n",
    "            'system',\n",
    "            '''You are a Twitter influencer known for your engaging content and sharp insights.\n",
    "            Review and critique the user’s tweet.\n",
    "            Provide constructive feedback, focusing on enhancing its depth, style, and overall impact.\n",
    "            Offer specific suggestions to make the tweet more compelling and engaging for their audience.'''\n",
    "        ),\n",
    "        MessagesPlaceholder(variable_name='messages'),\n",
    "    ]\n",
    ")\n",
    "\n",
    "reflect_chain  = reflection_prompt | llm"
   ]
  },
  {
   "cell_type": "code",
   "execution_count": 6,
   "metadata": {},
   "outputs": [
    {
     "name": "stdout",
     "output_type": "stream",
     "text": [
      "Your tweet captures the excitement of the upcoming FIFA World Cup 2026 nicely! The use of emojis is engaging and adds visual interest, which is perfect for Twitter. However, there are a few ways to enhance its depth, style, and overall impact:\n",
      "\n",
      "1. **Add a Personal Touch**: Share your own anticipation or a personal memory related to past World Cups. This can create a connection with your audience. For example: \"Can't wait to see the passion and talent on display—remember the thrill of 2014? 🥳\"\n",
      "\n",
      "2. **Pose a Question**: You’ve asked who will lift the trophy, but consider adding a more specific question to spark conversation. For instance: \"Which underdog team do you think could surprise us this year?\" \n",
      "\n",
      "3. **Highlight Unique Aspects**: Mention something unique about this tournament, like the fact that it's the first time three countries are co-hosting or the expanded format. This could deepen the context for your audience. \n",
      "\n",
      "4. **Call to Action**: Encourage your followers to engage further. You could suggest they share their predictions or favorite World Cup moments: \"Drop your predictions below! 👇\"\n",
      "\n",
      "5. **Conciseness**: While enthusiasm is great, consider tightening the language a bit for clarity. For instance, “Three nations, one epic tournament!” could be streamlined to “Three nations, one epic showdown!” \n",
      "\n",
      "Here's a revised version of your tweet:\n",
      "\n",
      "🌍⚽️ Excitement is building for the #FIFAWorldCup2026! 🇺🇸🇨🇦🇲🇽 Three nations, one epic showdown! 🏆✨ What underdog do you think will surprise us? Share your predictions! Let the countdown begin! 🕒🔥 #FootballFever #RoadTo2026 #WorldCupMagic\n",
      "\n",
      "This version maintains your original excitement while encouraging engagement and adding depth. Keep up the great work!"
     ]
    }
   ],
   "source": [
    "reflection = \"\"\n",
    "\n",
    "for chunk in reflect_chain.stream(\n",
    "    {\"messages\": [request, HumanMessage(content=tweet)]}\n",
    "):\n",
    "    print(chunk.content, end=\"\")\n",
    "    reflection += chunk.content"
   ]
  },
  {
   "cell_type": "code",
   "execution_count": 7,
   "metadata": {},
   "outputs": [
    {
     "name": "stdout",
     "output_type": "stream",
     "text": [
      "🌍⚽️ The excitement for #FIFAWorldCup2026 is REAL! 🇺🇸🇨🇦🇲🇽 Three nations, one epic showdown! 🏆✨ Can’t wait to see the passion on display—who else remembers the thrill of 2014? 🎉 What underdog team do you think could surprise us? Drop your predictions below! 👇 Let the countdown begin! 🕒🔥 #FootballFever #RoadTo2026 #WorldCupMagic"
     ]
    }
   ],
   "source": [
    "for chunk in generate_chain.stream(\n",
    "    {\"messages\": [request, AIMessage(content=tweet), HumanMessage(content=reflection)]}\n",
    "):\n",
    "    print(chunk.content, end=\"\")\n"
   ]
  },
  {
   "cell_type": "code",
   "execution_count": null,
   "metadata": {},
   "outputs": [
    {
     "name": "stderr",
     "output_type": "stream",
     "text": [
      "/var/folders/rg/_gpzq28d4m5bz9kt_j3vlkk00000gn/T/ipykernel_63652/3627582599.py:16: LangGraphDeprecatedSinceV10: MessageGraph is deprecated in LangGraph v1.0.0, to be removed in v2.0.0. Please use StateGraph with a `messages` key instead. Deprecated in LangGraph V1.0 to be removed in V2.0.\n",
      "  builder = MessageGraph()\n"
     ]
    }
   ],
   "source": [
    "from typing import List, Sequence\n",
    "from langgraph.graph import END, MessageGraph\n",
    "\n",
    "def generation_node(state: Sequence[BaseMessage]):\n",
    "    return generate_chain.invoke({\"messages\": state})\n",
    "\n",
    "\n",
    "def reflection_node(messages: Sequence[BaseMessage]) -> List[BaseMessage]:\n",
    "    cls_map = {\"ai\": HumanMessage, \"human\": AIMessage}\n",
    "    translated = [messages[0]] + [\n",
    "        cls_map[msg.type](content=msg.content) for msg in messages[1:]\n",
    "        ]\n",
    "    res = reflect_chain.invoke({\"messages\": translated})\n",
    "    return HumanMessage(content=res.content)\n",
    "\n",
    "builder = MessageGraph()\n",
    "builder.add_node(\"generate\", generation_node)\n",
    "builder.add_node(\"reflect\", reflection_node)\n",
    "\n",
    "builder.set_entry_point(\"generate\")\n",
    "\n",
    "\n",
    "MAX_ITERATIONS = 6\n",
    "\n",
    "def should_continue(state: List[BaseMessage]):\n",
    "    if len(state) > MAX_ITERATIONS:\n",
    "        return END\n",
    "    return \"reflect\"\n",
    "\n",
    "builder.add_conditional_edges(\"generate\", should_continue)\n",
    "builder.add_edge(\"reflect\", \"generate\")\n",
    "\n",
    "graph = builder.compile()"
   ]
  },
  {
   "cell_type": "code",
   "execution_count": 9,
   "metadata": {},
   "outputs": [
    {
     "data": {
      "image/png": "[encoded data removed]",
      "text/plain": [
       "<IPython.core.display.Image object>"
      ]
     },
     "metadata": {},
     "output_type": "display_data"
    }
   ],
   "source": [
    "from IPython.display import Image, display\n",
    "display(Image(graph.get_graph().draw_mermaid_png()))"
   ]
  },
  {
   "cell_type": "code",
   "execution_count": 10,
   "metadata": {},
   "outputs": [],
   "source": [
    "inputs = HumanMessage(content=\"Generate a tweet about FIFA World Cup 26\")\n",
    "response = graph.invoke(inputs)"
   ]
  },
  {
   "cell_type": "code",
   "execution_count": 11,
   "metadata": {},
   "outputs": [
    {
     "name": "stdout",
     "output_type": "stream",
     "text": [
      "Generate a tweet about FIFA World Cup 26\n",
      "\n",
      "----------------------------------------------------------------------------------------------------\n",
      "\n",
      "🌍⚽️ The countdown to #FIFAWorldCup26 has begun! 🎉 Get ready for a month of unforgettable matches, diverse cultures, and the world's best talent on display! Which team are you cheering for? 🏆🇺🇸🇨🇦🇲🇽 #WorldCup #FootballFever #26InTheMaking\n",
      "\n",
      "----------------------------------------------------------------------------------------------------\n",
      "\n",
      "Your tweet captures the excitement surrounding the FIFA World Cup 2026 nicely! The emojis add a fun touch, and the question at the end encourages engagement. However, to enhance its depth and style, consider the following suggestions:\n",
      "\n",
      "1. **Add a Personal Touch**: Share a brief insight or thought about what the World Cup means to you or a memorable moment from past tournaments. This will make your tweet more relatable and engaging.\n",
      "\n",
      "2. **Highlight Specifics**: Mention a few standout players or teams to spark conversation. For example, referencing a player to watch or a historic matchup can draw in more fans.\n",
      "\n",
      "3. **Broaden the Cultural Angle**: Since the tournament is hosted in three countries, you could emphasize the cultural exchange and unity aspect of the event.\n",
      "\n",
      "4. **Use a Call to Action**: Encourage your followers to share their favorite World Cup memories or predictions, which could lead to more interaction.\n",
      "\n",
      "Here’s a revised version considering these suggestions:\n",
      "\n",
      "🌍⚽️ The countdown to #FIFAWorldCup26 has begun! 🎉 With matches that will unite fans from 🇺🇸, 🇨🇦, and 🇲🇽, I can't wait to see legends like [Insert Player Name] shine on the world stage! What's one unforgettable moment that defines your World Cup experience? 🏆 #WorldCup #FootballFever #26InTheMaking\n",
      "\n",
      "This version deepens the emotional connection and invites your audience to share their thoughts, enhancing engagement.\n",
      "\n",
      "----------------------------------------------------------------------------------------------------\n",
      "\n",
      "🌍⚽️ The countdown to #FIFAWorldCup26 has begun! 🎉 With matches uniting fans from 🇺🇸, 🇨🇦, and 🇲🇽, I can't wait to see legends like Lionel Messi and rising stars like Jude Bellingham shine on the world stage! 🌟 What's one unforgettable moment that defines your World Cup experience? 🏆❤️ #WorldCup #FootballFever #26InTheMaking\n",
      "\n",
      "----------------------------------------------------------------------------------------------------\n",
      "\n",
      "This is a fantastic improvement! You've effectively added depth by mentioning specific players, which adds excitement and credibility to your tweet. The inclusion of an emotional question encourages engagement, creating a community feel. Here are a few minor tweaks and considerations to enhance it even further:\n",
      "\n",
      "1. **Emphasize the Unity Aspect**: Perhaps add a line about how the World Cup brings together not just fans but cultures and nations, which is a significant part of the tournament’s spirit.\n",
      "\n",
      "2. **Create a Sense of Anticipation**: Consider using phrases that evoke excitement and anticipation, which can elevate the emotional connection.\n",
      "\n",
      "3. **Incorporate a Visual Element**: If you're open to it, mentioning a hashtag that promotes fan-created content or visuals could encourage your followers to share their own moments or predictions.\n",
      "\n",
      "Here’s an adjusted version considering these suggestions:\n",
      "\n",
      "🌍⚽️ The countdown to #FIFAWorldCup26 has begun! 🎉 As fans unite from 🇺🇸, 🇨🇦, and 🇲🇽, I can't wait to witness legends like Lionel Messi and rising stars like Jude Bellingham light up the world stage! 🌟 What unforgettable moment defines your World Cup experience? Share your memories! 🏆❤️ #WorldCup #FootballFever #26InTheMaking #FanStories\n",
      "\n",
      "This version maintains your original enthusiasm while encouraging more personal interaction and connection with your audience. Great job!\n",
      "\n",
      "----------------------------------------------------------------------------------------------------\n",
      "\n",
      "🌍⚽️ The countdown to #FIFAWorldCup26 has begun! 🎉 As fans unite from 🇺🇸, 🇨🇦, and 🇲🇽, I can't wait to witness legends like Lionel Messi and rising stars like Jude Bellingham light up the world stage! 🌟 What unforgettable moment defines your World Cup experience? Share your memories and join the celebration! 🏆❤️ #WorldCup #FootballFever #26InTheMaking #FanStories\n",
      "\n",
      "----------------------------------------------------------------------------------------------------\n",
      "\n",
      "This tweet is looking fantastic! You've done an excellent job of creating excitement and inviting engagement. The call to action at the end encourages your followers to share their memories, which is a great way to foster community interaction. Here are a few final tweaks to consider for even more impact:\n",
      "\n",
      "1. **Add a Personal Touch**: Consider sharing a brief personal anecdote or favorite World Cup moment of your own to kick off the conversation. This can enhance relatability and encourage others to share their own stories.\n",
      "\n",
      "2. **Highlight the Cultural Aspect**: You might want to briefly mention how the tournament symbolizes the unity of diverse cultures, which is one of the beautiful aspects of the World Cup.\n",
      "\n",
      "3. **Use More Engaging Language**: Instead of \"light up the world stage,\" consider using phrases like \"create unforgettable moments\" or \"make history,\" which can resonate more deeply.\n",
      "\n",
      "Here’s a refined version incorporating these suggestions:\n",
      "\n",
      "🌍⚽️ The countdown to #FIFAWorldCup26 has begun! 🎉 As fans unite from 🇺🇸, 🇨🇦, and 🇲🇽, I can't wait to witness legends like Lionel Messi and rising stars like Jude Bellingham create unforgettable moments on the world stage! 🌟 My favorite memory is [insert your moment]. What defines your World Cup experience? Share your stories and let’s celebrate together! 🏆❤️ #WorldCup #FootballFever #26InTheMaking #FanStories\n",
      "\n",
      "This version invites a more personal touch while still encouraging your audience to engage. Overall, it’s a compelling and exciting tweet that will surely resonate with your followers! Great work!\n",
      "\n",
      "----------------------------------------------------------------------------------------------------\n",
      "\n",
      "🌍⚽️ The countdown to #FIFAWorldCup26 has begun! 🎉 As fans unite from 🇺🇸, 🇨🇦, and 🇲🇽, I can't wait to witness legends like Lionel Messi and rising stars like Jude Bellingham create unforgettable moments on the world stage! 🌟 My favorite memory? Watching [insert your moment]—pure magic! What defines your World Cup experience? Share your stories and let’s celebrate together! 🏆❤️ #WorldCup #FootballFever #26InTheMaking #FanStories\n",
      "\n",
      "----------------------------------------------------------------------------------------------------\n",
      "\n"
     ]
    }
   ],
   "source": [
    "for resp in response:\n",
    "    print(resp.content)\n",
    "    print(\"\\n\" + \"-\" * 100 + \"\\n\")"
   ]
  },
  {
   "cell_type": "code",
   "execution_count": null,
   "metadata": {},
   "outputs": [],
   "source": []
  }
 ],
 "metadata": {
  "kernelspec": {
   "display_name": "llms",
   "language": "python",
   "name": "python3"
  },
  "language_info": {
   "codemirror_mode": {
    "name": "ipython",
    "version": 3
   },
   "file_extension": ".py",
   "mimetype": "text/x-python",
   "name": "python",
   "nbconvert_exporter": "python",
   "pygments_lexer": "ipython3",
   "version": "3.11.13"
  }
 },
 "nbformat": 4,
 "nbformat_minor": 2
}
